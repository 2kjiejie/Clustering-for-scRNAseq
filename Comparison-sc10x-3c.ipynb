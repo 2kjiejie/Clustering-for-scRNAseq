{
 "cells": [
  {
   "cell_type": "code",
   "execution_count": 4,
   "metadata": {},
   "outputs": [],
   "source": [
    "import numpy as np\n",
    "import pandas as pd\n",
    "import tensorflow as tf\n",
    "import seaborn as sns\n",
    "import matplotlib.pyplot as plt\n",
    "%matplotlib inline"
   ]
  },
  {
   "cell_type": "markdown",
   "metadata": {},
   "source": [
    "# Preprocess the labels"
   ]
  },
  {
   "cell_type": "code",
   "execution_count": 5,
   "metadata": {},
   "outputs": [
    {
     "data": {
      "text/plain": [
       "['web_summary.html',\n",
       " 'filtered_feature_bc_matrix',\n",
       " '.DS_Store',\n",
       " 'raw_feature_bc_matrix',\n",
       " 'GSM3022245_10x_3cl_metadata.csv',\n",
       " 'GSM3022245_index_anno.csv',\n",
       " 'GSM3022245_gene_count.csv',\n",
       " 'sincell_with_class.RData']"
      ]
     },
     "execution_count": 5,
     "metadata": {},
     "output_type": "execute_result"
    }
   ],
   "source": [
    "import os\n",
    "path = '/Users/waynewu/4.Github/Clustering-for-scRNAseq/dataset/sc-10x'\n",
    "if os.path.exists(path):\n",
    "    files = os.listdir(path)\n",
    "files"
   ]
  },
  {
   "cell_type": "code",
   "execution_count": 6,
   "metadata": {},
   "outputs": [
    {
     "data": {
      "text/html": [
       "<div>\n",
       "<style scoped>\n",
       "    .dataframe tbody tr th:only-of-type {\n",
       "        vertical-align: middle;\n",
       "    }\n",
       "\n",
       "    .dataframe tbody tr th {\n",
       "        vertical-align: top;\n",
       "    }\n",
       "\n",
       "    .dataframe thead th {\n",
       "        text-align: right;\n",
       "    }\n",
       "</style>\n",
       "<table border=\"1\" class=\"dataframe\">\n",
       "  <thead>\n",
       "    <tr style=\"text-align: right;\">\n",
       "      <th></th>\n",
       "      <th>cell_name</th>\n",
       "      <th>cell_line_demuxlet</th>\n",
       "      <th>demuxlet_cls</th>\n",
       "    </tr>\n",
       "  </thead>\n",
       "  <tbody>\n",
       "    <tr>\n",
       "      <th>0</th>\n",
       "      <td>CELL_001266</td>\n",
       "      <td>H1975</td>\n",
       "      <td>SNG</td>\n",
       "    </tr>\n",
       "    <tr>\n",
       "      <th>1</th>\n",
       "      <td>CELL_001391</td>\n",
       "      <td>H2228</td>\n",
       "      <td>DBL</td>\n",
       "    </tr>\n",
       "    <tr>\n",
       "      <th>2</th>\n",
       "      <td>CELL_002843</td>\n",
       "      <td>HCC827</td>\n",
       "      <td>DBL</td>\n",
       "    </tr>\n",
       "    <tr>\n",
       "      <th>3</th>\n",
       "      <td>CELL_000432</td>\n",
       "      <td>H2228</td>\n",
       "      <td>SNG</td>\n",
       "    </tr>\n",
       "    <tr>\n",
       "      <th>4</th>\n",
       "      <td>CELL_001720</td>\n",
       "      <td>HCC827</td>\n",
       "      <td>DBL</td>\n",
       "    </tr>\n",
       "  </tbody>\n",
       "</table>\n",
       "</div>"
      ],
      "text/plain": [
       "     cell_name cell_line_demuxlet demuxlet_cls\n",
       "0  CELL_001266              H1975          SNG\n",
       "1  CELL_001391              H2228          DBL\n",
       "2  CELL_002843             HCC827          DBL\n",
       "3  CELL_000432              H2228          SNG\n",
       "4  CELL_001720             HCC827          DBL"
      ]
     },
     "execution_count": 6,
     "metadata": {},
     "output_type": "execute_result"
    }
   ],
   "source": [
    "# metadata\n",
    "ground_truth1 = pd.read_csv(os.path.join(path, files[4]))\n",
    "# index anno\n",
    "ground_truth2 = pd.read_csv(os.path.join(path, files[5]), names=['cell_name', 'barcode', 'ref'])\n",
    "ground_truth1.head(5)"
   ]
  },
  {
   "cell_type": "code",
   "execution_count": 7,
   "metadata": {},
   "outputs": [
    {
     "data": {
      "text/html": [
       "<div>\n",
       "<style scoped>\n",
       "    .dataframe tbody tr th:only-of-type {\n",
       "        vertical-align: middle;\n",
       "    }\n",
       "\n",
       "    .dataframe tbody tr th {\n",
       "        vertical-align: top;\n",
       "    }\n",
       "\n",
       "    .dataframe thead th {\n",
       "        text-align: right;\n",
       "    }\n",
       "</style>\n",
       "<table border=\"1\" class=\"dataframe\">\n",
       "  <thead>\n",
       "    <tr style=\"text-align: right;\">\n",
       "      <th></th>\n",
       "      <th>cell_name</th>\n",
       "      <th>barcode</th>\n",
       "      <th>ref</th>\n",
       "    </tr>\n",
       "  </thead>\n",
       "  <tbody>\n",
       "    <tr>\n",
       "      <th>0</th>\n",
       "      <td>CELL_000000</td>\n",
       "      <td>CCTTACGAGGACACCA</td>\n",
       "      <td>864365</td>\n",
       "    </tr>\n",
       "    <tr>\n",
       "      <th>1</th>\n",
       "      <td>CELL_000001</td>\n",
       "      <td>CCGTTCAGTACGACCC</td>\n",
       "      <td>755167</td>\n",
       "    </tr>\n",
       "    <tr>\n",
       "      <th>2</th>\n",
       "      <td>CELL_000002</td>\n",
       "      <td>TGAAAGACACTGTTAG</td>\n",
       "      <td>753727</td>\n",
       "    </tr>\n",
       "    <tr>\n",
       "      <th>3</th>\n",
       "      <td>CELL_000003</td>\n",
       "      <td>CTGAAACAGAGACTAT</td>\n",
       "      <td>750591</td>\n",
       "    </tr>\n",
       "    <tr>\n",
       "      <th>4</th>\n",
       "      <td>CELL_000004</td>\n",
       "      <td>GACTGCGCACGAAACG</td>\n",
       "      <td>718276</td>\n",
       "    </tr>\n",
       "  </tbody>\n",
       "</table>\n",
       "</div>"
      ],
      "text/plain": [
       "     cell_name           barcode     ref\n",
       "0  CELL_000000  CCTTACGAGGACACCA  864365\n",
       "1  CELL_000001  CCGTTCAGTACGACCC  755167\n",
       "2  CELL_000002  TGAAAGACACTGTTAG  753727\n",
       "3  CELL_000003  CTGAAACAGAGACTAT  750591\n",
       "4  CELL_000004  GACTGCGCACGAAACG  718276"
      ]
     },
     "execution_count": 7,
     "metadata": {},
     "output_type": "execute_result"
    }
   ],
   "source": [
    "ground_truth2.head(5)"
   ]
  },
  {
   "cell_type": "code",
   "execution_count": 8,
   "metadata": {},
   "outputs": [
    {
     "data": {
      "text/html": [
       "<div>\n",
       "<style scoped>\n",
       "    .dataframe tbody tr th:only-of-type {\n",
       "        vertical-align: middle;\n",
       "    }\n",
       "\n",
       "    .dataframe tbody tr th {\n",
       "        vertical-align: top;\n",
       "    }\n",
       "\n",
       "    .dataframe thead th {\n",
       "        text-align: right;\n",
       "    }\n",
       "</style>\n",
       "<table border=\"1\" class=\"dataframe\">\n",
       "  <thead>\n",
       "    <tr style=\"text-align: right;\">\n",
       "      <th></th>\n",
       "      <th>cell_name</th>\n",
       "      <th>barcode</th>\n",
       "      <th>ref</th>\n",
       "      <th>cell_line_demuxlet</th>\n",
       "      <th>demuxlet_cls</th>\n",
       "    </tr>\n",
       "  </thead>\n",
       "  <tbody>\n",
       "    <tr>\n",
       "      <th>0</th>\n",
       "      <td>CELL_000001</td>\n",
       "      <td>CCGTTCAGTACGACCC</td>\n",
       "      <td>755167</td>\n",
       "      <td>HCC827</td>\n",
       "      <td>SNG</td>\n",
       "    </tr>\n",
       "    <tr>\n",
       "      <th>1</th>\n",
       "      <td>CELL_000002</td>\n",
       "      <td>TGAAAGACACTGTTAG</td>\n",
       "      <td>753727</td>\n",
       "      <td>HCC827</td>\n",
       "      <td>DBL</td>\n",
       "    </tr>\n",
       "    <tr>\n",
       "      <th>2</th>\n",
       "      <td>CELL_000003</td>\n",
       "      <td>CTGAAACAGAGACTAT</td>\n",
       "      <td>750591</td>\n",
       "      <td>HCC827</td>\n",
       "      <td>SNG</td>\n",
       "    </tr>\n",
       "    <tr>\n",
       "      <th>3</th>\n",
       "      <td>CELL_000004</td>\n",
       "      <td>GACTGCGCACGAAACG</td>\n",
       "      <td>718276</td>\n",
       "      <td>HCC827</td>\n",
       "      <td>SNG</td>\n",
       "    </tr>\n",
       "    <tr>\n",
       "      <th>4</th>\n",
       "      <td>CELL_000005</td>\n",
       "      <td>AGCAGCCTCCTCGCAT</td>\n",
       "      <td>701393</td>\n",
       "      <td>HCC827</td>\n",
       "      <td>SNG</td>\n",
       "    </tr>\n",
       "    <tr>\n",
       "      <th>5</th>\n",
       "      <td>CELL_000006</td>\n",
       "      <td>TTCTCAAGTTACGACT</td>\n",
       "      <td>665628</td>\n",
       "      <td>H1975</td>\n",
       "      <td>SNG</td>\n",
       "    </tr>\n",
       "    <tr>\n",
       "      <th>6</th>\n",
       "      <td>CELL_000007</td>\n",
       "      <td>AGTGTCAGTATCTGCA</td>\n",
       "      <td>663212</td>\n",
       "      <td>HCC827</td>\n",
       "      <td>SNG</td>\n",
       "    </tr>\n",
       "    <tr>\n",
       "      <th>7</th>\n",
       "      <td>CELL_000008</td>\n",
       "      <td>TGAGAGGAGATCGATA</td>\n",
       "      <td>656593</td>\n",
       "      <td>HCC827</td>\n",
       "      <td>SNG</td>\n",
       "    </tr>\n",
       "    <tr>\n",
       "      <th>8</th>\n",
       "      <td>CELL_000009</td>\n",
       "      <td>TTCGAAGGTTCCGTCT</td>\n",
       "      <td>652084</td>\n",
       "      <td>HCC827</td>\n",
       "      <td>SNG</td>\n",
       "    </tr>\n",
       "    <tr>\n",
       "      <th>9</th>\n",
       "      <td>CELL_000010</td>\n",
       "      <td>CTCATTACATTCCTCG</td>\n",
       "      <td>651956</td>\n",
       "      <td>HCC827</td>\n",
       "      <td>SNG</td>\n",
       "    </tr>\n",
       "  </tbody>\n",
       "</table>\n",
       "</div>"
      ],
      "text/plain": [
       "     cell_name           barcode     ref cell_line_demuxlet demuxlet_cls\n",
       "0  CELL_000001  CCGTTCAGTACGACCC  755167             HCC827          SNG\n",
       "1  CELL_000002  TGAAAGACACTGTTAG  753727             HCC827          DBL\n",
       "2  CELL_000003  CTGAAACAGAGACTAT  750591             HCC827          SNG\n",
       "3  CELL_000004  GACTGCGCACGAAACG  718276             HCC827          SNG\n",
       "4  CELL_000005  AGCAGCCTCCTCGCAT  701393             HCC827          SNG\n",
       "5  CELL_000006  TTCTCAAGTTACGACT  665628              H1975          SNG\n",
       "6  CELL_000007  AGTGTCAGTATCTGCA  663212             HCC827          SNG\n",
       "7  CELL_000008  TGAGAGGAGATCGATA  656593             HCC827          SNG\n",
       "8  CELL_000009  TTCGAAGGTTCCGTCT  652084             HCC827          SNG\n",
       "9  CELL_000010  CTCATTACATTCCTCG  651956             HCC827          SNG"
      ]
     },
     "execution_count": 8,
     "metadata": {},
     "output_type": "execute_result"
    }
   ],
   "source": [
    "table = ground_truth2.merge(ground_truth1, on='cell_name')\n",
    "table.head(10)"
   ]
  },
  {
   "cell_type": "markdown",
   "metadata": {},
   "source": [
    "# Compare results"
   ]
  },
  {
   "cell_type": "code",
   "execution_count": 9,
   "metadata": {},
   "outputs": [],
   "source": [
    "import matplotlib.pyplot as plt\n",
    "%matplotlib inline\n",
    "\n",
    "path = '/Users/waynewu/4.Github/Clustering-for-scRNAseq/cluster_results/sc-10x/'\n",
    "barcode = 'barcode'\n",
    "\n",
    "# 1. seurat python 10x\n",
    "py_10x = pd.read_csv(path+'seurat-python.csv')\n",
    "py_10x.pop('Unnamed: 0')\n",
    "\n",
    "# 2. seurat r 10x - resolution = 1\n",
    "R_10x = pd.read_csv(path+'seurat-R-1.csv')\n",
    "R_10x[barcode] = R_10x['Unnamed: 0']\n",
    "R_10x.pop('Unnamed: 0')\n",
    "newdata = table.merge(R_10x, on=barcode)\n",
    "newdata['target'] = newdata['cell_line_demuxlet'].factorize()[0]\n",
    "\n",
    "# 3. sc3 results\n",
    "sc3 = pd.read_excel(path+'sc3_results.xls')\n",
    "sc3_results = sc3[[\"Unnamed: 0\", \"sc3_4_clusters\"]]\n",
    "sc3_results[barcode] = sc3_results[\"Unnamed: 0\"]\n",
    "sc3_r = table.merge(sc3_results, on=barcode)\n",
    "sc3_r['target'] = sc3_r['cell_line_demuxlet'].factorize()[0]\n",
    "\n",
    "# 4. cooc results\n",
    "cooc = pd.read_csv(path+'cooc.csv').T.reset_index()[1:]\n",
    "cooc[barcode] = cooc[\"index\"]\n",
    "cooc[\"cooc_clusters\"] = cooc.loc[:,0]\n",
    "cooc.pop(\"index\")\n",
    "cooc.pop(0)\n",
    "cooc_data = table.merge(cooc, on=barcode)\n",
    "cooc_data['target'] = cooc_data['cell_line_demuxlet'].factorize()[0]\n",
    "\n",
    "# 5. RaceID3\n",
    "race = pd.read_csv(path+'RaceID3.csv')\n",
    "race[barcode] = race[\"Unnamed: 0\"]\n",
    "race.pop(\"Unnamed: 0\")\n",
    "race_data = table.merge(race, on=barcode)\n",
    "race_data['target'] = race_data['cell_line_demuxlet'].factorize()[0]\n",
    "\n",
    "# 6. SAFE clustering\n",
    "safe = pd.read_csv(path+'SAFE.csv')\n",
    "safe[barcode] = safe[\"Unnamed: 0\"]\n",
    "safe.pop(\"Unnamed: 0\")\n",
    "safe_data = table.merge(safe, on=barcode)\n",
    "safe_data['target'] = safe_data['cell_line_demuxlet'].factorize()[0]"
   ]
  },
  {
   "cell_type": "markdown",
   "metadata": {},
   "source": [
    "## 1. Cluster counts"
   ]
  },
  {
   "cell_type": "code",
   "execution_count": 10,
   "metadata": {},
   "outputs": [],
   "source": [
    "def cluster_counts(df, cluster_name, name):\n",
    "    print(\"Cluster counts for {}\".format(name))\n",
    "    groups = df.groupby(by = cluster_name)\n",
    "    return groups[\"target\"].describe()[['count']]"
   ]
  },
  {
   "cell_type": "code",
   "execution_count": 1,
   "metadata": {},
   "outputs": [],
   "source": [
    "#cluster_counts(py_10x, 'louvain', '1. seurat python 10x - 3 cells')"
   ]
  },
  {
   "cell_type": "code",
   "execution_count": 2,
   "metadata": {},
   "outputs": [],
   "source": [
    "#cluster_counts(newdata, 'seurat_clusters', '2. seurat r 10x - 3 cells - resolution = 1')"
   ]
  },
  {
   "cell_type": "code",
   "execution_count": 4,
   "metadata": {},
   "outputs": [],
   "source": [
    "#cluster_counts(sc3_r, 'sc3_4_clusters', '3. sc3 10x')"
   ]
  },
  {
   "cell_type": "code",
   "execution_count": 5,
   "metadata": {},
   "outputs": [],
   "source": [
    "#cluster_counts(cooc_data, 'cooc_clusters', '4. cooc 10x')"
   ]
  },
  {
   "cell_type": "code",
   "execution_count": 30,
   "metadata": {},
   "outputs": [
    {
     "name": "stdout",
     "output_type": "stream",
     "text": [
      "Cluster counts for 6. RaceID3 10x\n"
     ]
    },
    {
     "data": {
      "text/html": [
       "<div>\n",
       "<style scoped>\n",
       "    .dataframe tbody tr th:only-of-type {\n",
       "        vertical-align: middle;\n",
       "    }\n",
       "\n",
       "    .dataframe tbody tr th {\n",
       "        vertical-align: top;\n",
       "    }\n",
       "\n",
       "    .dataframe thead th {\n",
       "        text-align: right;\n",
       "    }\n",
       "</style>\n",
       "<table border=\"1\" class=\"dataframe\">\n",
       "  <thead>\n",
       "    <tr style=\"text-align: right;\">\n",
       "      <th></th>\n",
       "      <th>count</th>\n",
       "    </tr>\n",
       "    <tr>\n",
       "      <th>V1</th>\n",
       "      <th></th>\n",
       "    </tr>\n",
       "  </thead>\n",
       "  <tbody>\n",
       "    <tr>\n",
       "      <th>1</th>\n",
       "      <td>82.0</td>\n",
       "    </tr>\n",
       "    <tr>\n",
       "      <th>2</th>\n",
       "      <td>165.0</td>\n",
       "    </tr>\n",
       "    <tr>\n",
       "      <th>3</th>\n",
       "      <td>134.0</td>\n",
       "    </tr>\n",
       "    <tr>\n",
       "      <th>4</th>\n",
       "      <td>114.0</td>\n",
       "    </tr>\n",
       "    <tr>\n",
       "      <th>5</th>\n",
       "      <td>145.0</td>\n",
       "    </tr>\n",
       "    <tr>\n",
       "      <th>7</th>\n",
       "      <td>109.0</td>\n",
       "    </tr>\n",
       "    <tr>\n",
       "      <th>8</th>\n",
       "      <td>21.0</td>\n",
       "    </tr>\n",
       "    <tr>\n",
       "      <th>9</th>\n",
       "      <td>59.0</td>\n",
       "    </tr>\n",
       "    <tr>\n",
       "      <th>10</th>\n",
       "      <td>41.0</td>\n",
       "    </tr>\n",
       "  </tbody>\n",
       "</table>\n",
       "</div>"
      ],
      "text/plain": [
       "    count\n",
       "V1       \n",
       "1    82.0\n",
       "2   165.0\n",
       "3   134.0\n",
       "4   114.0\n",
       "5   145.0\n",
       "7   109.0\n",
       "8    21.0\n",
       "9    59.0\n",
       "10   41.0"
      ]
     },
     "execution_count": 30,
     "metadata": {},
     "output_type": "execute_result"
    }
   ],
   "source": [
    "# 5. RaceID3\n",
    "counts = race_data['V1'].value_counts()\n",
    "race_data = race_data[~race_data['V1'].isin(counts[counts < 20].index)]\n",
    "cluster_counts(race_data, 'V1', '6. RaceID3 10x')"
   ]
  },
  {
   "cell_type": "code",
   "execution_count": 7,
   "metadata": {},
   "outputs": [],
   "source": [
    "# cluster_counts(safe_data, 'V1', '6. SAFE 10x')"
   ]
  },
  {
   "cell_type": "markdown",
   "metadata": {},
   "source": [
    "## 2. Compare with ground truths"
   ]
  },
  {
   "cell_type": "code",
   "execution_count": 11,
   "metadata": {},
   "outputs": [],
   "source": [
    "def reorder(df):\n",
    "    \n",
    "    dic = {i: np.argmax(df.loc[:,i].values) for i in range(len(df.columns))}\n",
    "    dic = sorted(dic.items(), key = lambda x: x[1])\n",
    "    df_new = pd.concat([df.loc[:,col] for col, target in dic],axis=1)\n",
    "    \n",
    "    # Normalize\n",
    "    #df_new = df_new.apply(lambda x: x/x.sum(), axis=0)\n",
    "    \n",
    "    return df_new"
   ]
  },
  {
   "cell_type": "code",
   "execution_count": 12,
   "metadata": {},
   "outputs": [
    {
     "data": {
      "text/html": [
       "<div>\n",
       "<style scoped>\n",
       "    .dataframe tbody tr th:only-of-type {\n",
       "        vertical-align: middle;\n",
       "    }\n",
       "\n",
       "    .dataframe tbody tr th {\n",
       "        vertical-align: top;\n",
       "    }\n",
       "\n",
       "    .dataframe thead th {\n",
       "        text-align: right;\n",
       "    }\n",
       "</style>\n",
       "<table border=\"1\" class=\"dataframe\">\n",
       "  <thead>\n",
       "    <tr style=\"text-align: right;\">\n",
       "      <th>louvain</th>\n",
       "      <th>0</th>\n",
       "      <th>1</th>\n",
       "      <th>2</th>\n",
       "      <th>3</th>\n",
       "      <th>4</th>\n",
       "      <th>5</th>\n",
       "      <th>6</th>\n",
       "      <th>7</th>\n",
       "      <th>8</th>\n",
       "      <th>9</th>\n",
       "      <th>sum</th>\n",
       "    </tr>\n",
       "    <tr>\n",
       "      <th>target</th>\n",
       "      <th></th>\n",
       "      <th></th>\n",
       "      <th></th>\n",
       "      <th></th>\n",
       "      <th></th>\n",
       "      <th></th>\n",
       "      <th></th>\n",
       "      <th></th>\n",
       "      <th></th>\n",
       "      <th></th>\n",
       "      <th></th>\n",
       "    </tr>\n",
       "  </thead>\n",
       "  <tbody>\n",
       "    <tr>\n",
       "      <th>0</th>\n",
       "      <td>0</td>\n",
       "      <td>0</td>\n",
       "      <td>134</td>\n",
       "      <td>111</td>\n",
       "      <td>0</td>\n",
       "      <td>0</td>\n",
       "      <td>0</td>\n",
       "      <td>0</td>\n",
       "      <td>0</td>\n",
       "      <td>33</td>\n",
       "      <td>278</td>\n",
       "    </tr>\n",
       "    <tr>\n",
       "      <th>1</th>\n",
       "      <td>144</td>\n",
       "      <td>137</td>\n",
       "      <td>0</td>\n",
       "      <td>0</td>\n",
       "      <td>0</td>\n",
       "      <td>0</td>\n",
       "      <td>0</td>\n",
       "      <td>38</td>\n",
       "      <td>0</td>\n",
       "      <td>0</td>\n",
       "      <td>319</td>\n",
       "    </tr>\n",
       "    <tr>\n",
       "      <th>2</th>\n",
       "      <td>0</td>\n",
       "      <td>0</td>\n",
       "      <td>0</td>\n",
       "      <td>0</td>\n",
       "      <td>104</td>\n",
       "      <td>95</td>\n",
       "      <td>80</td>\n",
       "      <td>0</td>\n",
       "      <td>38</td>\n",
       "      <td>1</td>\n",
       "      <td>318</td>\n",
       "    </tr>\n",
       "  </tbody>\n",
       "</table>\n",
       "</div>"
      ],
      "text/plain": [
       "louvain    0    1    2    3    4   5   6   7   8   9  sum\n",
       "target                                                   \n",
       "0          0    0  134  111    0   0   0   0   0  33  278\n",
       "1        144  137    0    0    0   0   0  38   0   0  319\n",
       "2          0    0    0    0  104  95  80   0  38   1  318"
      ]
     },
     "execution_count": 12,
     "metadata": {},
     "output_type": "execute_result"
    }
   ],
   "source": [
    "# 1. seurat python 10x - 3 cells \n",
    "df = pd.crosstab(py_10x['target'], py_10x['louvain'])\n",
    "df_s = df.copy()\n",
    "df_s[\"sum\"] = df.sum(axis=1)\n",
    "df_s"
   ]
  },
  {
   "cell_type": "code",
   "execution_count": 13,
   "metadata": {},
   "outputs": [
    {
     "data": {
      "text/plain": [
       "<matplotlib.axes._subplots.AxesSubplot at 0x10a37c7f0>"
      ]
     },
     "execution_count": 13,
     "metadata": {},
     "output_type": "execute_result"
    },
    {
     "data": {
      "image/png": "[encoded data removed]",
      "text/plain": [
       "<Figure size 432x288 with 2 Axes>"
      ]
     },
     "metadata": {
      "needs_background": "light"
     },
     "output_type": "display_data"
    }
   ],
   "source": [
    "df = reorder(df)\n",
    "sns.heatmap(df, cmap=\"YlGnBu\", annot=True, fmt=\"d\")"
   ]
  },
  {
   "cell_type": "code",
   "execution_count": 14,
   "metadata": {},
   "outputs": [
    {
     "data": {
      "text/html": [
       "<div>\n",
       "<style scoped>\n",
       "    .dataframe tbody tr th:only-of-type {\n",
       "        vertical-align: middle;\n",
       "    }\n",
       "\n",
       "    .dataframe tbody tr th {\n",
       "        vertical-align: top;\n",
       "    }\n",
       "\n",
       "    .dataframe thead th {\n",
       "        text-align: right;\n",
       "    }\n",
       "</style>\n",
       "<table border=\"1\" class=\"dataframe\">\n",
       "  <thead>\n",
       "    <tr style=\"text-align: right;\">\n",
       "      <th>seurat_clusters</th>\n",
       "      <th>0</th>\n",
       "      <th>1</th>\n",
       "      <th>2</th>\n",
       "      <th>3</th>\n",
       "      <th>4</th>\n",
       "      <th>5</th>\n",
       "      <th>6</th>\n",
       "      <th>7</th>\n",
       "      <th>8</th>\n",
       "      <th>9</th>\n",
       "      <th>sum</th>\n",
       "    </tr>\n",
       "    <tr>\n",
       "      <th>target</th>\n",
       "      <th></th>\n",
       "      <th></th>\n",
       "      <th></th>\n",
       "      <th></th>\n",
       "      <th></th>\n",
       "      <th></th>\n",
       "      <th></th>\n",
       "      <th></th>\n",
       "      <th></th>\n",
       "      <th></th>\n",
       "      <th></th>\n",
       "    </tr>\n",
       "  </thead>\n",
       "  <tbody>\n",
       "    <tr>\n",
       "      <th>0</th>\n",
       "      <td>150</td>\n",
       "      <td>128</td>\n",
       "      <td>0</td>\n",
       "      <td>0</td>\n",
       "      <td>0</td>\n",
       "      <td>0</td>\n",
       "      <td>0</td>\n",
       "      <td>0</td>\n",
       "      <td>0</td>\n",
       "      <td>0</td>\n",
       "      <td>278</td>\n",
       "    </tr>\n",
       "    <tr>\n",
       "      <th>1</th>\n",
       "      <td>1</td>\n",
       "      <td>0</td>\n",
       "      <td>117</td>\n",
       "      <td>0</td>\n",
       "      <td>91</td>\n",
       "      <td>0</td>\n",
       "      <td>66</td>\n",
       "      <td>0</td>\n",
       "      <td>0</td>\n",
       "      <td>44</td>\n",
       "      <td>319</td>\n",
       "    </tr>\n",
       "    <tr>\n",
       "      <th>2</th>\n",
       "      <td>0</td>\n",
       "      <td>0</td>\n",
       "      <td>0</td>\n",
       "      <td>113</td>\n",
       "      <td>0</td>\n",
       "      <td>86</td>\n",
       "      <td>0</td>\n",
       "      <td>61</td>\n",
       "      <td>58</td>\n",
       "      <td>0</td>\n",
       "      <td>318</td>\n",
       "    </tr>\n",
       "  </tbody>\n",
       "</table>\n",
       "</div>"
      ],
      "text/plain": [
       "seurat_clusters    0    1    2    3   4   5   6   7   8   9  sum\n",
       "target                                                          \n",
       "0                150  128    0    0   0   0   0   0   0   0  278\n",
       "1                  1    0  117    0  91   0  66   0   0  44  319\n",
       "2                  0    0    0  113   0  86   0  61  58   0  318"
      ]
     },
     "execution_count": 14,
     "metadata": {},
     "output_type": "execute_result"
    }
   ],
   "source": [
    "# 2. seurat r 10x - 3 cells - resolution = 1\n",
    "df_r = pd.crosstab(newdata['target'], newdata['seurat_clusters'])\n",
    "df_r_s = df_r.copy()\n",
    "df_r_s[\"sum\"] = df_r.sum(axis=1)\n",
    "df_r_s"
   ]
  },
  {
   "cell_type": "code",
   "execution_count": 15,
   "metadata": {},
   "outputs": [
    {
     "data": {
      "text/plain": [
       "<matplotlib.axes._subplots.AxesSubplot at 0x1a37655080>"
      ]
     },
     "execution_count": 15,
     "metadata": {},
     "output_type": "execute_result"
    },
    {
     "data": {
      "image/png": "[encoded data removed]",
      "text/plain": [
       "<Figure size 432x288 with 2 Axes>"
      ]
     },
     "metadata": {
      "needs_background": "light"
     },
     "output_type": "display_data"
    }
   ],
   "source": [
    "df_r = reorder(df_r)\n",
    "sns.heatmap(df_r, cmap=\"YlGnBu\", annot=True, fmt=\"d\")"
   ]
  },
  {
   "cell_type": "code",
   "execution_count": 17,
   "metadata": {},
   "outputs": [
    {
     "data": {
      "text/html": [
       "<div>\n",
       "<style scoped>\n",
       "    .dataframe tbody tr th:only-of-type {\n",
       "        vertical-align: middle;\n",
       "    }\n",
       "\n",
       "    .dataframe tbody tr th {\n",
       "        vertical-align: top;\n",
       "    }\n",
       "\n",
       "    .dataframe thead th {\n",
       "        text-align: right;\n",
       "    }\n",
       "</style>\n",
       "<table border=\"1\" class=\"dataframe\">\n",
       "  <thead>\n",
       "    <tr style=\"text-align: right;\">\n",
       "      <th>sc3_4_clusters</th>\n",
       "      <th>1</th>\n",
       "      <th>2</th>\n",
       "      <th>3</th>\n",
       "      <th>4</th>\n",
       "      <th>sum</th>\n",
       "    </tr>\n",
       "    <tr>\n",
       "      <th>target</th>\n",
       "      <th></th>\n",
       "      <th></th>\n",
       "      <th></th>\n",
       "      <th></th>\n",
       "      <th></th>\n",
       "    </tr>\n",
       "  </thead>\n",
       "  <tbody>\n",
       "    <tr>\n",
       "      <th>0</th>\n",
       "      <td>0</td>\n",
       "      <td>317</td>\n",
       "      <td>0</td>\n",
       "      <td>0</td>\n",
       "      <td>317</td>\n",
       "    </tr>\n",
       "    <tr>\n",
       "      <th>1</th>\n",
       "      <td>0</td>\n",
       "      <td>1</td>\n",
       "      <td>188</td>\n",
       "      <td>169</td>\n",
       "      <td>358</td>\n",
       "    </tr>\n",
       "    <tr>\n",
       "      <th>2</th>\n",
       "      <td>322</td>\n",
       "      <td>0</td>\n",
       "      <td>0</td>\n",
       "      <td>0</td>\n",
       "      <td>322</td>\n",
       "    </tr>\n",
       "  </tbody>\n",
       "</table>\n",
       "</div>"
      ],
      "text/plain": [
       "sc3_4_clusters    1    2    3    4  sum\n",
       "target                                 \n",
       "0                 0  317    0    0  317\n",
       "1                 0    1  188  169  358\n",
       "2               322    0    0    0  322"
      ]
     },
     "execution_count": 17,
     "metadata": {},
     "output_type": "execute_result"
    }
   ],
   "source": [
    "# 3. sc3 10x\n",
    "df_sc3 = pd.crosstab(sc3_r['target'], sc3_r['sc3_4_clusters'])\n",
    "df_sc3_s = df_sc3.copy()\n",
    "df_sc3_s[\"sum\"] = df_sc3_s.sum(axis=1)\n",
    "df_sc3_s"
   ]
  },
  {
   "cell_type": "code",
   "execution_count": 18,
   "metadata": {},
   "outputs": [
    {
     "data": {
      "text/plain": [
       "<matplotlib.axes._subplots.AxesSubplot at 0x1a37755c50>"
      ]
     },
     "execution_count": 18,
     "metadata": {},
     "output_type": "execute_result"
    },
    {
     "data": {
      "image/png": "[encoded data removed]",
      "text/plain": [
       "<Figure size 432x288 with 2 Axes>"
      ]
     },
     "metadata": {
      "needs_background": "light"
     },
     "output_type": "display_data"
    }
   ],
   "source": [
    "def reorder(df):\n",
    "    \n",
    "    dic = {i: np.argmax(df.loc[:,i].values) for i in range(1, len(df.columns)+1)}\n",
    "    dic = sorted(dic.items(), key = lambda x: x[1])\n",
    "    df_new = pd.concat([df.loc[:,col] for col, target in dic],axis=1)\n",
    "    \n",
    "    # Normalize\n",
    "    #df_new = df_new.apply(lambda x: x/x.sum(), axis=0)\n",
    "    \n",
    "    return df_new\n",
    "\n",
    "df_sc3 = reorder(df_sc3)\n",
    "sns.heatmap(df_sc3, cmap=\"YlGnBu\", annot=True, fmt=\"d\")"
   ]
  },
  {
   "cell_type": "code",
   "execution_count": 19,
   "metadata": {},
   "outputs": [
    {
     "data": {
      "text/html": [
       "<div>\n",
       "<style scoped>\n",
       "    .dataframe tbody tr th:only-of-type {\n",
       "        vertical-align: middle;\n",
       "    }\n",
       "\n",
       "    .dataframe tbody tr th {\n",
       "        vertical-align: top;\n",
       "    }\n",
       "\n",
       "    .dataframe thead th {\n",
       "        text-align: right;\n",
       "    }\n",
       "</style>\n",
       "<table border=\"1\" class=\"dataframe\">\n",
       "  <thead>\n",
       "    <tr style=\"text-align: right;\">\n",
       "      <th>cooc_clusters</th>\n",
       "      <th>1</th>\n",
       "      <th>2</th>\n",
       "      <th>3</th>\n",
       "      <th>4</th>\n",
       "      <th>5</th>\n",
       "      <th>6</th>\n",
       "      <th>7</th>\n",
       "      <th>8</th>\n",
       "      <th>sum</th>\n",
       "    </tr>\n",
       "    <tr>\n",
       "      <th>target</th>\n",
       "      <th></th>\n",
       "      <th></th>\n",
       "      <th></th>\n",
       "      <th></th>\n",
       "      <th></th>\n",
       "      <th></th>\n",
       "      <th></th>\n",
       "      <th></th>\n",
       "      <th></th>\n",
       "    </tr>\n",
       "  </thead>\n",
       "  <tbody>\n",
       "    <tr>\n",
       "      <th>0</th>\n",
       "      <td>0</td>\n",
       "      <td>1</td>\n",
       "      <td>0</td>\n",
       "      <td>0</td>\n",
       "      <td>36</td>\n",
       "      <td>167</td>\n",
       "      <td>29</td>\n",
       "      <td>40</td>\n",
       "      <td>273</td>\n",
       "    </tr>\n",
       "    <tr>\n",
       "      <th>1</th>\n",
       "      <td>2</td>\n",
       "      <td>136</td>\n",
       "      <td>116</td>\n",
       "      <td>60</td>\n",
       "      <td>0</td>\n",
       "      <td>0</td>\n",
       "      <td>0</td>\n",
       "      <td>0</td>\n",
       "      <td>314</td>\n",
       "    </tr>\n",
       "    <tr>\n",
       "      <th>2</th>\n",
       "      <td>310</td>\n",
       "      <td>0</td>\n",
       "      <td>0</td>\n",
       "      <td>0</td>\n",
       "      <td>0</td>\n",
       "      <td>0</td>\n",
       "      <td>0</td>\n",
       "      <td>0</td>\n",
       "      <td>310</td>\n",
       "    </tr>\n",
       "  </tbody>\n",
       "</table>\n",
       "</div>"
      ],
      "text/plain": [
       "cooc_clusters    1    2    3   4   5    6   7   8  sum\n",
       "target                                                \n",
       "0                0    1    0   0  36  167  29  40  273\n",
       "1                2  136  116  60   0    0   0   0  314\n",
       "2              310    0    0   0   0    0   0   0  310"
      ]
     },
     "execution_count": 19,
     "metadata": {},
     "output_type": "execute_result"
    }
   ],
   "source": [
    "# 4. cooc - 3 cells \n",
    "df_cooc = pd.crosstab(cooc_data['target'], cooc_data[cooc_data['cooc_clusters']<9]['cooc_clusters'])\n",
    "df_cooc_s = df_cooc.copy()\n",
    "df_cooc_s[\"sum\"] = df_cooc.sum(axis=1)\n",
    "df_cooc_s"
   ]
  },
  {
   "cell_type": "code",
   "execution_count": 20,
   "metadata": {},
   "outputs": [
    {
     "data": {
      "text/plain": [
       "<matplotlib.axes._subplots.AxesSubplot at 0x1a3788a4a8>"
      ]
     },
     "execution_count": 20,
     "metadata": {},
     "output_type": "execute_result"
    },
    {
     "data": {
      "image/png": "[encoded data removed]",
      "text/plain": [
       "<Figure size 432x288 with 2 Axes>"
      ]
     },
     "metadata": {
      "needs_background": "light"
     },
     "output_type": "display_data"
    }
   ],
   "source": [
    "def reorder(df):\n",
    "    \n",
    "    dic = {i: np.argmax(df.loc[:,i].values) for i in range(1, len(df.columns)+1)}\n",
    "    dic = sorted(dic.items(), key = lambda x: x[1])\n",
    "    df_new = pd.concat([df.loc[:,col] for col, target in dic],axis=1)\n",
    "    \n",
    "    # Normalize\n",
    "    #df_new = df_new.apply(lambda x: x/x.sum(), axis=0)\n",
    "    \n",
    "    return df_new\n",
    "\n",
    "df_cooc = reorder(df_cooc)\n",
    "sns.heatmap(df_cooc, cmap=\"YlGnBu\", annot=True, fmt=\"d\")"
   ]
  },
  {
   "cell_type": "code",
   "execution_count": 21,
   "metadata": {},
   "outputs": [
    {
     "data": {
      "text/html": [
       "<div>\n",
       "<style scoped>\n",
       "    .dataframe tbody tr th:only-of-type {\n",
       "        vertical-align: middle;\n",
       "    }\n",
       "\n",
       "    .dataframe tbody tr th {\n",
       "        vertical-align: top;\n",
       "    }\n",
       "\n",
       "    .dataframe thead th {\n",
       "        text-align: right;\n",
       "    }\n",
       "</style>\n",
       "<table border=\"1\" class=\"dataframe\">\n",
       "  <thead>\n",
       "    <tr style=\"text-align: right;\">\n",
       "      <th>V1</th>\n",
       "      <th>1</th>\n",
       "      <th>2</th>\n",
       "      <th>3</th>\n",
       "      <th>4</th>\n",
       "      <th>5</th>\n",
       "      <th>6</th>\n",
       "      <th>7</th>\n",
       "      <th>8</th>\n",
       "      <th>9</th>\n",
       "      <th>10</th>\n",
       "      <th>...</th>\n",
       "      <th>67</th>\n",
       "      <th>68</th>\n",
       "      <th>69</th>\n",
       "      <th>70</th>\n",
       "      <th>71</th>\n",
       "      <th>72</th>\n",
       "      <th>73</th>\n",
       "      <th>74</th>\n",
       "      <th>75</th>\n",
       "      <th>sum</th>\n",
       "    </tr>\n",
       "    <tr>\n",
       "      <th>target</th>\n",
       "      <th></th>\n",
       "      <th></th>\n",
       "      <th></th>\n",
       "      <th></th>\n",
       "      <th></th>\n",
       "      <th></th>\n",
       "      <th></th>\n",
       "      <th></th>\n",
       "      <th></th>\n",
       "      <th></th>\n",
       "      <th></th>\n",
       "      <th></th>\n",
       "      <th></th>\n",
       "      <th></th>\n",
       "      <th></th>\n",
       "      <th></th>\n",
       "      <th></th>\n",
       "      <th></th>\n",
       "      <th></th>\n",
       "      <th></th>\n",
       "      <th></th>\n",
       "    </tr>\n",
       "  </thead>\n",
       "  <tbody>\n",
       "    <tr>\n",
       "      <th>0</th>\n",
       "      <td>0</td>\n",
       "      <td>165</td>\n",
       "      <td>0</td>\n",
       "      <td>0</td>\n",
       "      <td>1</td>\n",
       "      <td>5</td>\n",
       "      <td>108</td>\n",
       "      <td>0</td>\n",
       "      <td>0</td>\n",
       "      <td>0</td>\n",
       "      <td>...</td>\n",
       "      <td>1</td>\n",
       "      <td>0</td>\n",
       "      <td>0</td>\n",
       "      <td>5</td>\n",
       "      <td>1</td>\n",
       "      <td>0</td>\n",
       "      <td>1</td>\n",
       "      <td>0</td>\n",
       "      <td>0</td>\n",
       "      <td>317</td>\n",
       "    </tr>\n",
       "    <tr>\n",
       "      <th>1</th>\n",
       "      <td>0</td>\n",
       "      <td>0</td>\n",
       "      <td>134</td>\n",
       "      <td>114</td>\n",
       "      <td>0</td>\n",
       "      <td>0</td>\n",
       "      <td>1</td>\n",
       "      <td>21</td>\n",
       "      <td>0</td>\n",
       "      <td>41</td>\n",
       "      <td>...</td>\n",
       "      <td>0</td>\n",
       "      <td>0</td>\n",
       "      <td>1</td>\n",
       "      <td>0</td>\n",
       "      <td>0</td>\n",
       "      <td>1</td>\n",
       "      <td>0</td>\n",
       "      <td>1</td>\n",
       "      <td>1</td>\n",
       "      <td>358</td>\n",
       "    </tr>\n",
       "    <tr>\n",
       "      <th>2</th>\n",
       "      <td>82</td>\n",
       "      <td>0</td>\n",
       "      <td>0</td>\n",
       "      <td>0</td>\n",
       "      <td>144</td>\n",
       "      <td>0</td>\n",
       "      <td>0</td>\n",
       "      <td>0</td>\n",
       "      <td>59</td>\n",
       "      <td>0</td>\n",
       "      <td>...</td>\n",
       "      <td>0</td>\n",
       "      <td>1</td>\n",
       "      <td>0</td>\n",
       "      <td>0</td>\n",
       "      <td>0</td>\n",
       "      <td>0</td>\n",
       "      <td>0</td>\n",
       "      <td>0</td>\n",
       "      <td>0</td>\n",
       "      <td>322</td>\n",
       "    </tr>\n",
       "  </tbody>\n",
       "</table>\n",
       "<p>3 rows × 76 columns</p>\n",
       "</div>"
      ],
      "text/plain": [
       "V1       1    2    3    4    5  6    7   8   9  10  ...  67  68  69  70  71  \\\n",
       "target                                              ...                       \n",
       "0        0  165    0    0    1  5  108   0   0   0  ...   1   0   0   5   1   \n",
       "1        0    0  134  114    0  0    1  21   0  41  ...   0   0   1   0   0   \n",
       "2       82    0    0    0  144  0    0   0  59   0  ...   0   1   0   0   0   \n",
       "\n",
       "V1      72  73  74  75  sum  \n",
       "target                       \n",
       "0        0   1   0   0  317  \n",
       "1        1   0   1   1  358  \n",
       "2        0   0   0   0  322  \n",
       "\n",
       "[3 rows x 76 columns]"
      ]
     },
     "execution_count": 21,
     "metadata": {},
     "output_type": "execute_result"
    }
   ],
   "source": [
    "# 5. RaceID3\n",
    "df_race = pd.crosstab(race_data['target'], race_data['V1'])\n",
    "df_race_s = df_race.copy()\n",
    "df_race_s[\"sum\"] = df_race.sum(axis=1)\n",
    "df_race_s"
   ]
  },
  {
   "cell_type": "code",
   "execution_count": 22,
   "metadata": {},
   "outputs": [
    {
     "data": {
      "text/plain": [
       "<matplotlib.axes._subplots.AxesSubplot at 0x1a37a98fd0>"
      ]
     },
     "execution_count": 22,
     "metadata": {},
     "output_type": "execute_result"
    },
    {
     "data": {
      "image/png": "[encoded data removed]",
      "text/plain": [
       "<Figure size 432x288 with 2 Axes>"
      ]
     },
     "metadata": {
      "needs_background": "light"
     },
     "output_type": "display_data"
    }
   ],
   "source": [
    "def reorder(df):\n",
    "    \n",
    "    dic = {i: np.argmax(df.loc[:,i].values) for i in range(1, len(df.columns)+1) if i != 6}\n",
    "    dic = sorted(dic.items(), key = lambda x: x[1])\n",
    "    df_new = pd.concat([df.loc[:,col] for col, target in dic],axis=1)\n",
    "    \n",
    "    # Normalize\n",
    "    #df_new = df_new.apply(lambda x: x/x.sum(), axis=0)\n",
    "    \n",
    "    return df_new\n",
    "\n",
    "df_race = reorder(df_race)\n",
    "sns.heatmap(df_race, cmap=\"YlGnBu\", annot=True, fmt=\"d\")"
   ]
  },
  {
   "cell_type": "code",
   "execution_count": 23,
   "metadata": {},
   "outputs": [
    {
     "data": {
      "text/html": [
       "<div>\n",
       "<style scoped>\n",
       "    .dataframe tbody tr th:only-of-type {\n",
       "        vertical-align: middle;\n",
       "    }\n",
       "\n",
       "    .dataframe tbody tr th {\n",
       "        vertical-align: top;\n",
       "    }\n",
       "\n",
       "    .dataframe thead th {\n",
       "        text-align: right;\n",
       "    }\n",
       "</style>\n",
       "<table border=\"1\" class=\"dataframe\">\n",
       "  <thead>\n",
       "    <tr style=\"text-align: right;\">\n",
       "      <th>V1</th>\n",
       "      <th>1</th>\n",
       "      <th>2</th>\n",
       "      <th>3</th>\n",
       "      <th>4</th>\n",
       "      <th>5</th>\n",
       "      <th>6</th>\n",
       "      <th>7</th>\n",
       "      <th>sum</th>\n",
       "    </tr>\n",
       "    <tr>\n",
       "      <th>target</th>\n",
       "      <th></th>\n",
       "      <th></th>\n",
       "      <th></th>\n",
       "      <th></th>\n",
       "      <th></th>\n",
       "      <th></th>\n",
       "      <th></th>\n",
       "      <th></th>\n",
       "    </tr>\n",
       "  </thead>\n",
       "  <tbody>\n",
       "    <tr>\n",
       "      <th>0</th>\n",
       "      <td>35</td>\n",
       "      <td>0</td>\n",
       "      <td>0</td>\n",
       "      <td>7</td>\n",
       "      <td>275</td>\n",
       "      <td>0</td>\n",
       "      <td>0</td>\n",
       "      <td>317</td>\n",
       "    </tr>\n",
       "    <tr>\n",
       "      <th>1</th>\n",
       "      <td>36</td>\n",
       "      <td>181</td>\n",
       "      <td>138</td>\n",
       "      <td>1</td>\n",
       "      <td>1</td>\n",
       "      <td>1</td>\n",
       "      <td>0</td>\n",
       "      <td>358</td>\n",
       "    </tr>\n",
       "    <tr>\n",
       "      <th>2</th>\n",
       "      <td>2</td>\n",
       "      <td>0</td>\n",
       "      <td>0</td>\n",
       "      <td>2</td>\n",
       "      <td>0</td>\n",
       "      <td>164</td>\n",
       "      <td>154</td>\n",
       "      <td>322</td>\n",
       "    </tr>\n",
       "  </tbody>\n",
       "</table>\n",
       "</div>"
      ],
      "text/plain": [
       "V1       1    2    3  4    5    6    7  sum\n",
       "target                                     \n",
       "0       35    0    0  7  275    0    0  317\n",
       "1       36  181  138  1    1    1    0  358\n",
       "2        2    0    0  2    0  164  154  322"
      ]
     },
     "execution_count": 23,
     "metadata": {},
     "output_type": "execute_result"
    }
   ],
   "source": [
    "# 7. SAFE\n",
    "df_safe = pd.crosstab(safe_data['target'], safe_data['V1'])\n",
    "df_safe_s = df_safe.copy()\n",
    "df_safe_s[\"sum\"] = df_safe.sum(axis=1)\n",
    "df_safe_s"
   ]
  },
  {
   "cell_type": "code",
   "execution_count": 24,
   "metadata": {},
   "outputs": [
    {
     "data": {
      "text/plain": [
       "<matplotlib.axes._subplots.AxesSubplot at 0x1a37b549b0>"
      ]
     },
     "execution_count": 24,
     "metadata": {},
     "output_type": "execute_result"
    },
    {
     "data": {
      "image/png": "[encoded data removed]",
      "text/plain": [
       "<Figure size 432x288 with 2 Axes>"
      ]
     },
     "metadata": {
      "needs_background": "light"
     },
     "output_type": "display_data"
    }
   ],
   "source": [
    "def reorder(df):\n",
    "    \n",
    "    dic = {i: np.argmax(df.loc[:,i].values) for i in range(1, len(df.columns)+1)}\n",
    "    dic = sorted(dic.items(), key = lambda x: x[1])\n",
    "    df_new = pd.concat([df.loc[:,col] for col, target in dic],axis=1)\n",
    "    \n",
    "    # Normalize\n",
    "    #df_new = df_new.apply(lambda x: x/x.sum(), axis=0)\n",
    "    \n",
    "    return df_new\n",
    "\n",
    "df_safe = reorder(df_safe)\n",
    "sns.heatmap(df_safe, cmap=\"YlGnBu\", annot=True, fmt=\"d\")"
   ]
  },
  {
   "cell_type": "markdown",
   "metadata": {},
   "source": [
    "## 3. mutual comparison"
   ]
  },
  {
   "cell_type": "code",
   "execution_count": 87,
   "metadata": {},
   "outputs": [
    {
     "data": {
      "text/plain": [
       "<matplotlib.axes._subplots.AxesSubplot at 0x1a3dbfad68>"
      ]
     },
     "execution_count": 87,
     "metadata": {},
     "output_type": "execute_result"
    },
    {
     "data": {
      "image/png": "[encoded data removed]",
      "text/plain": [
       "<Figure size 432x288 with 2 Axes>"
      ]
     },
     "metadata": {
      "needs_background": "light"
     },
     "output_type": "display_data"
    }
   ],
   "source": [
    "# python vs. r (resolution: 1)\n",
    "dfsss = pd.crosstab(newdata['seurat_clusters'], py_10x['louvain'])\n",
    "dfsss = reorder(dfsss)\n",
    "sns.heatmap(dfsss, cmap=\"YlGnBu\", annot=True, fmt=\"d\")"
   ]
  },
  {
   "cell_type": "code",
   "execution_count": 88,
   "metadata": {},
   "outputs": [
    {
     "data": {
      "text/plain": [
       "<matplotlib.axes._subplots.AxesSubplot at 0x1a3dde78d0>"
      ]
     },
     "execution_count": 88,
     "metadata": {},
     "output_type": "execute_result"
    },
    {
     "data": {
      "image/png": "[encoded data removed]",
      "text/plain": [
       "<Figure size 432x288 with 2 Axes>"
      ]
     },
     "metadata": {
      "needs_background": "light"
     },
     "output_type": "display_data"
    }
   ],
   "source": [
    "# mutual comparison\n",
    "# python vs. r (resolution: 0.5)\n",
    "dfsss = pd.crosstab(newdata_half['seurat_clusters'], py_10x['louvain'])\n",
    "dfsss = reorder(dfsss)\n",
    "sns.heatmap(dfsss, cmap=\"YlGnBu\", annot=True, fmt=\"d\")"
   ]
  },
  {
   "cell_type": "markdown",
   "metadata": {},
   "source": [
    "## 4. Calculating the metrics\n",
    "With M and N representing the cluster\n",
    "assignment generated from clustering methods and annotations (ground truth), we\n",
    "define these measures as follows:\n",
    "\n",
    "<img src=\"clustering.png\"/>\n",
    "\n",
    "where $x_j$ are cells in the jth true cluster and $p(x_j)$ are the proportions of these\n",
    "cells relative to the total number of cells in the ith generated cluster. For $H_{accuracy}$,\n",
    "M denotes the clustering generated by a given method, and $Ni$ are the true clusters\n",
    "in the ith generated cluster. Similarly, in $H_{purity}$, N denotes the true clusters while\n",
    "$M_i$ is the method assigned cluster for the ith true cluster. The ECA measures the\n",
    "diversity of the true group labels within each cluster assigned by the clustering\n",
    "algorithm. A low value indicates that the cells in a cluster identified by a given\n",
    "method are homogeneous and from the same group."
   ]
  },
  {
   "cell_type": "code",
   "execution_count": 25,
   "metadata": {},
   "outputs": [],
   "source": [
    "def calc_h_accuracy(df):\n",
    "    df_norm = df.apply(lambda x: x/x.sum(), axis=0)\n",
    "    df_entropy = df_norm.apply(lambda x: x*np.log2(x+0.0001))\n",
    "    return -np.sum(df_entropy.sum(axis=0)) / len(df.columns)\n",
    "\n",
    "def calc_h_purity(df):\n",
    "    df_norm = df.apply(lambda x: x/x.sum(), axis=1)\n",
    "    df_entropy = df_norm.apply(lambda x: x*np.log2(x+0.0001))\n",
    "    return -np.sum(df_entropy.sum(axis=0)) / len(df)"
   ]
  },
  {
   "cell_type": "code",
   "execution_count": 26,
   "metadata": {},
   "outputs": [
    {
     "name": "stdout",
     "output_type": "stream",
     "text": [
      "======10x single cell results======\n",
      "The entropy of cluster accuracy for seurat python: 0.01898\n",
      "The entropy of cluster accuracy for seurat R (resolution=1): 0.00559\n",
      "The entropy of cluster accuracy for sc3: 0.00749\n",
      "The entropy of cluster accuracy for cooc: 0.01460\n",
      "The entropy of cluster accuracy for RaceID3: 0.01518\n",
      "The entropy of cluster accuracy for SAFE: 0.34236\n"
     ]
    }
   ],
   "source": [
    "print(\"======10x single cell results======\")\n",
    "print(\"The entropy of cluster accuracy for seurat python: {:.5f}\".format(calc_h_accuracy(df)))\n",
    "print(\"The entropy of cluster accuracy for seurat R (resolution=1): {:.5f}\".format(calc_h_accuracy(df_r)))\n",
    "print(\"The entropy of cluster accuracy for sc3: {:.5f}\".format(calc_h_accuracy(df_sc3)))\n",
    "print(\"The entropy of cluster accuracy for cooc: {:.5f}\".format(calc_h_accuracy(df_cooc)))\n",
    "print(\"The entropy of cluster accuracy for RaceID3: {:.5f}\".format(calc_h_accuracy(df_race)))\n",
    "print(\"The entropy of cluster accuracy for SAFE: {:.5f}\".format(calc_h_accuracy(df_safe)))"
   ]
  },
  {
   "cell_type": "code",
   "execution_count": 27,
   "metadata": {},
   "outputs": [
    {
     "name": "stdout",
     "output_type": "stream",
     "text": [
      "======10x single cell results======\n",
      "The entropy of cluster purity for seurat python: 1.58279\n",
      "The entropy of cluster purity for seurat R (resolution=1): 1.62559\n",
      "The entropy of cluster purity for sc3: 0.34072\n",
      "The entropy of cluster purity for cooc: 1.05109\n",
      "The entropy of cluster purity for RaceID3: 2.21876\n",
      "The entropy of cluster purity for SAFE: 1.05873\n"
     ]
    }
   ],
   "source": [
    "print(\"======10x single cell results======\")\n",
    "print(\"The entropy of cluster purity for seurat python: {:.5f}\".format(calc_h_purity(df)))\n",
    "print(\"The entropy of cluster purity for seurat R (resolution=1): {:.5f}\".format(calc_h_purity(df_r)))\n",
    "print(\"The entropy of cluster purity for sc3: {:.5f}\".format(calc_h_purity(df_sc3)))\n",
    "print(\"The entropy of cluster purity for cooc: {:.5f}\".format(calc_h_purity(df_cooc)))\n",
    "print(\"The entropy of cluster purity for RaceID3: {:.5f}\".format(calc_h_purity(df_race)))\n",
    "print(\"The entropy of cluster purity for SAFE: {:.5f}\".format(calc_h_purity(df_safe)))"
   ]
  },
  {
   "cell_type": "markdown",
   "metadata": {},
   "source": [
    "#### Rand index adjusted for chance\n",
    "\n",
    "The Rand Index computes a similarity measure between two clusterings by considering all pairs of samples and counting pairs that are assigned in the same or different clusters in the predicted and true clusterings.\n",
    "\n",
    "The raw RI score is then “adjusted for chance” into the ARI score using the following scheme:\n",
    "\n",
    "$ARI = \\frac{RI - Expected\\{RI\\}}{max(RI) - Expected\\{RI\\}}$\n",
    "\n",
    "The adjusted Rand index is thus ensured to have a value close to 0.0 for random labeling independently of the number of clusters and samples and exactly 1.0 when the clusterings are identical (up to a permutation).\n",
    "\n",
    "#### For example:\n",
    "real class set is U, cluster result set is V:\n",
    "\n",
    "Randomly choose two points:\n",
    "\n",
    "1) both belongs to U, V: a $\\sum_{ij}{C^{n_{ij}}_2}$\n",
    "\n",
    "2) both belongs to U, but not V: b $\\sum_{i}{C^{n_{i}}_2} - \\sum_{ij}{C^{n_{ij}}_2}$\n",
    "\n",
    "3) both belongs to V, but not U: c $\\sum_{j}{C^{n_{j}}_2} - \\sum_{ij}{C^{n_{ij}}_2}$\n",
    "\n",
    "4) both don't belong to U,V: d $\\sum{C^{n}_2}$\n",
    "\n",
    "\n",
    "<img src=\"ari.png\" width=\"400\"/>"
   ]
  },
  {
   "cell_type": "code",
   "execution_count": 28,
   "metadata": {},
   "outputs": [
    {
     "name": "stdout",
     "output_type": "stream",
     "text": [
      "======10x single cell 3 cell lines results======\n",
      "The ARI for seurat python: 0.42268\n",
      "The ARI for seurat R (resolution=1): 0.40055\n",
      "The ARI for sc3: 0.84564\n",
      "The ARI for cooc: 0.55834\n",
      "The ARI for RaceID3: 0.37315\n",
      "The ARI for SAFE: 0.60380\n"
     ]
    }
   ],
   "source": [
    "from sklearn.metrics.cluster import adjusted_rand_score\n",
    "print(\"======10x single cell 3 cell lines results======\")\n",
    "print(\"The ARI for seurat python: {:.5f}\".format(adjusted_rand_score(py_10x['target'], py_10x['louvain'])))\n",
    "print(\"The ARI for seurat R (resolution=1): {:.5f}\".format(adjusted_rand_score(newdata['target'], newdata['seurat_clusters'])))\n",
    "print(\"The ARI for sc3: {:.5f}\".format(adjusted_rand_score(sc3_r['target'], sc3_r['sc3_4_clusters'])))\n",
    "print(\"The ARI for cooc: {:.5f}\".format(adjusted_rand_score(cooc_data['target'], cooc_data['cooc_clusters'])))\n",
    "print(\"The ARI for RaceID3: {:.5f}\".format(adjusted_rand_score(race_data['target'], race_data['V1'])))\n",
    "print(\"The ARI for SAFE: {:.5f}\".format(adjusted_rand_score(safe_data['target'], safe_data['V1'])))"
   ]
  },
  {
   "cell_type": "code",
   "execution_count": null,
   "metadata": {},
   "outputs": [],
   "source": []
  }
 ],
 "metadata": {
  "kernelspec": {
   "display_name": "Python 3",
   "language": "python",
   "name": "python3"
  },
  "language_info": {
   "codemirror_mode": {
    "name": "ipython",
    "version": 3
   },
   "file_extension": ".py",
   "mimetype": "text/x-python",
   "name": "python",
   "nbconvert_exporter": "python",
   "pygments_lexer": "ipython3",
   "version": "3.7.3"
  }
 },
 "nbformat": 4,
 "nbformat_minor": 2
}

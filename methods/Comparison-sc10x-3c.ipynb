{
 "cells": [
  {
   "cell_type": "code",
   "execution_count": 6,
   "metadata": {},
   "outputs": [],
   "source": [
    "import numpy as np\n",
    "import pandas as pd\n",
    "import tensorflow as tf\n",
    "import seaborn as sns\n",
    "import matplotlib.pyplot as plt\n",
    "%matplotlib inline"
   ]
  },
  {
   "cell_type": "markdown",
   "metadata": {},
   "source": [
    "# Preprocess the labels"
   ]
  },
  {
   "cell_type": "code",
   "execution_count": 8,
   "metadata": {},
   "outputs": [
    {
     "data": {
      "text/plain": [
       "['web_summary.html',\n",
       " 'filtered_feature_bc_matrix',\n",
       " '.DS_Store',\n",
       " 'raw_feature_bc_matrix',\n",
       " 'GSM3022245_10x_3cl_metadata.csv',\n",
       " 'GSM3022245_index_anno.csv',\n",
       " 'GSM3022245_gene_count.csv',\n",
       " 'sincell_with_class.RData']"
      ]
     },
     "execution_count": 8,
     "metadata": {},
     "output_type": "execute_result"
    }
   ],
   "source": [
    "import os\n",
    "path = '/Users/waynewu/4.Github/Clustering-for-scRNAseq/dataset/sc-10x'\n",
    "if os.path.exists(path):\n",
    "    files = os.listdir(path)\n",
    "files"
   ]
  },
  {
   "cell_type": "code",
   "execution_count": 9,
   "metadata": {},
   "outputs": [
    {
     "data": {
      "text/html": [
       "<div>\n",
       "<style scoped>\n",
       "    .dataframe tbody tr th:only-of-type {\n",
       "        vertical-align: middle;\n",
       "    }\n",
       "\n",
       "    .dataframe tbody tr th {\n",
       "        vertical-align: top;\n",
       "    }\n",
       "\n",
       "    .dataframe thead th {\n",
       "        text-align: right;\n",
       "    }\n",
       "</style>\n",
       "<table border=\"1\" class=\"dataframe\">\n",
       "  <thead>\n",
       "    <tr style=\"text-align: right;\">\n",
       "      <th></th>\n",
       "      <th>cell_name</th>\n",
       "      <th>cell_line_demuxlet</th>\n",
       "      <th>demuxlet_cls</th>\n",
       "    </tr>\n",
       "  </thead>\n",
       "  <tbody>\n",
       "    <tr>\n",
       "      <th>0</th>\n",
       "      <td>CELL_001266</td>\n",
       "      <td>H1975</td>\n",
       "      <td>SNG</td>\n",
       "    </tr>\n",
       "    <tr>\n",
       "      <th>1</th>\n",
       "      <td>CELL_001391</td>\n",
       "      <td>H2228</td>\n",
       "      <td>DBL</td>\n",
       "    </tr>\n",
       "    <tr>\n",
       "      <th>2</th>\n",
       "      <td>CELL_002843</td>\n",
       "      <td>HCC827</td>\n",
       "      <td>DBL</td>\n",
       "    </tr>\n",
       "    <tr>\n",
       "      <th>3</th>\n",
       "      <td>CELL_000432</td>\n",
       "      <td>H2228</td>\n",
       "      <td>SNG</td>\n",
       "    </tr>\n",
       "    <tr>\n",
       "      <th>4</th>\n",
       "      <td>CELL_001720</td>\n",
       "      <td>HCC827</td>\n",
       "      <td>DBL</td>\n",
       "    </tr>\n",
       "  </tbody>\n",
       "</table>\n",
       "</div>"
      ],
      "text/plain": [
       "     cell_name cell_line_demuxlet demuxlet_cls\n",
       "0  CELL_001266              H1975          SNG\n",
       "1  CELL_001391              H2228          DBL\n",
       "2  CELL_002843             HCC827          DBL\n",
       "3  CELL_000432              H2228          SNG\n",
       "4  CELL_001720             HCC827          DBL"
      ]
     },
     "execution_count": 9,
     "metadata": {},
     "output_type": "execute_result"
    }
   ],
   "source": [
    "# metadata\n",
    "ground_truth1 = pd.read_csv(os.path.join(path, files[4]))\n",
    "# index anno\n",
    "ground_truth2 = pd.read_csv(os.path.join(path, files[5]), names=['cell_name', 'barcode', 'ref'])\n",
    "ground_truth1.head(5)"
   ]
  },
  {
   "cell_type": "code",
   "execution_count": 10,
   "metadata": {},
   "outputs": [
    {
     "data": {
      "text/html": [
       "<div>\n",
       "<style scoped>\n",
       "    .dataframe tbody tr th:only-of-type {\n",
       "        vertical-align: middle;\n",
       "    }\n",
       "\n",
       "    .dataframe tbody tr th {\n",
       "        vertical-align: top;\n",
       "    }\n",
       "\n",
       "    .dataframe thead th {\n",
       "        text-align: right;\n",
       "    }\n",
       "</style>\n",
       "<table border=\"1\" class=\"dataframe\">\n",
       "  <thead>\n",
       "    <tr style=\"text-align: right;\">\n",
       "      <th></th>\n",
       "      <th>cell_name</th>\n",
       "      <th>barcode</th>\n",
       "      <th>ref</th>\n",
       "    </tr>\n",
       "  </thead>\n",
       "  <tbody>\n",
       "    <tr>\n",
       "      <th>0</th>\n",
       "      <td>CELL_000000</td>\n",
       "      <td>CCTTACGAGGACACCA</td>\n",
       "      <td>864365</td>\n",
       "    </tr>\n",
       "    <tr>\n",
       "      <th>1</th>\n",
       "      <td>CELL_000001</td>\n",
       "      <td>CCGTTCAGTACGACCC</td>\n",
       "      <td>755167</td>\n",
       "    </tr>\n",
       "    <tr>\n",
       "      <th>2</th>\n",
       "      <td>CELL_000002</td>\n",
       "      <td>TGAAAGACACTGTTAG</td>\n",
       "      <td>753727</td>\n",
       "    </tr>\n",
       "    <tr>\n",
       "      <th>3</th>\n",
       "      <td>CELL_000003</td>\n",
       "      <td>CTGAAACAGAGACTAT</td>\n",
       "      <td>750591</td>\n",
       "    </tr>\n",
       "    <tr>\n",
       "      <th>4</th>\n",
       "      <td>CELL_000004</td>\n",
       "      <td>GACTGCGCACGAAACG</td>\n",
       "      <td>718276</td>\n",
       "    </tr>\n",
       "  </tbody>\n",
       "</table>\n",
       "</div>"
      ],
      "text/plain": [
       "     cell_name           barcode     ref\n",
       "0  CELL_000000  CCTTACGAGGACACCA  864365\n",
       "1  CELL_000001  CCGTTCAGTACGACCC  755167\n",
       "2  CELL_000002  TGAAAGACACTGTTAG  753727\n",
       "3  CELL_000003  CTGAAACAGAGACTAT  750591\n",
       "4  CELL_000004  GACTGCGCACGAAACG  718276"
      ]
     },
     "execution_count": 10,
     "metadata": {},
     "output_type": "execute_result"
    }
   ],
   "source": [
    "ground_truth2.head(5)"
   ]
  },
  {
   "cell_type": "code",
   "execution_count": 11,
   "metadata": {},
   "outputs": [
    {
     "data": {
      "text/html": [
       "<div>\n",
       "<style scoped>\n",
       "    .dataframe tbody tr th:only-of-type {\n",
       "        vertical-align: middle;\n",
       "    }\n",
       "\n",
       "    .dataframe tbody tr th {\n",
       "        vertical-align: top;\n",
       "    }\n",
       "\n",
       "    .dataframe thead th {\n",
       "        text-align: right;\n",
       "    }\n",
       "</style>\n",
       "<table border=\"1\" class=\"dataframe\">\n",
       "  <thead>\n",
       "    <tr style=\"text-align: right;\">\n",
       "      <th></th>\n",
       "      <th>cell_name</th>\n",
       "      <th>barcode</th>\n",
       "      <th>ref</th>\n",
       "      <th>cell_line_demuxlet</th>\n",
       "      <th>demuxlet_cls</th>\n",
       "    </tr>\n",
       "  </thead>\n",
       "  <tbody>\n",
       "    <tr>\n",
       "      <th>0</th>\n",
       "      <td>CELL_000001</td>\n",
       "      <td>CCGTTCAGTACGACCC</td>\n",
       "      <td>755167</td>\n",
       "      <td>HCC827</td>\n",
       "      <td>SNG</td>\n",
       "    </tr>\n",
       "    <tr>\n",
       "      <th>1</th>\n",
       "      <td>CELL_000002</td>\n",
       "      <td>TGAAAGACACTGTTAG</td>\n",
       "      <td>753727</td>\n",
       "      <td>HCC827</td>\n",
       "      <td>DBL</td>\n",
       "    </tr>\n",
       "    <tr>\n",
       "      <th>2</th>\n",
       "      <td>CELL_000003</td>\n",
       "      <td>CTGAAACAGAGACTAT</td>\n",
       "      <td>750591</td>\n",
       "      <td>HCC827</td>\n",
       "      <td>SNG</td>\n",
       "    </tr>\n",
       "    <tr>\n",
       "      <th>3</th>\n",
       "      <td>CELL_000004</td>\n",
       "      <td>GACTGCGCACGAAACG</td>\n",
       "      <td>718276</td>\n",
       "      <td>HCC827</td>\n",
       "      <td>SNG</td>\n",
       "    </tr>\n",
       "    <tr>\n",
       "      <th>4</th>\n",
       "      <td>CELL_000005</td>\n",
       "      <td>AGCAGCCTCCTCGCAT</td>\n",
       "      <td>701393</td>\n",
       "      <td>HCC827</td>\n",
       "      <td>SNG</td>\n",
       "    </tr>\n",
       "    <tr>\n",
       "      <th>5</th>\n",
       "      <td>CELL_000006</td>\n",
       "      <td>TTCTCAAGTTACGACT</td>\n",
       "      <td>665628</td>\n",
       "      <td>H1975</td>\n",
       "      <td>SNG</td>\n",
       "    </tr>\n",
       "    <tr>\n",
       "      <th>6</th>\n",
       "      <td>CELL_000007</td>\n",
       "      <td>AGTGTCAGTATCTGCA</td>\n",
       "      <td>663212</td>\n",
       "      <td>HCC827</td>\n",
       "      <td>SNG</td>\n",
       "    </tr>\n",
       "    <tr>\n",
       "      <th>7</th>\n",
       "      <td>CELL_000008</td>\n",
       "      <td>TGAGAGGAGATCGATA</td>\n",
       "      <td>656593</td>\n",
       "      <td>HCC827</td>\n",
       "      <td>SNG</td>\n",
       "    </tr>\n",
       "    <tr>\n",
       "      <th>8</th>\n",
       "      <td>CELL_000009</td>\n",
       "      <td>TTCGAAGGTTCCGTCT</td>\n",
       "      <td>652084</td>\n",
       "      <td>HCC827</td>\n",
       "      <td>SNG</td>\n",
       "    </tr>\n",
       "    <tr>\n",
       "      <th>9</th>\n",
       "      <td>CELL_000010</td>\n",
       "      <td>CTCATTACATTCCTCG</td>\n",
       "      <td>651956</td>\n",
       "      <td>HCC827</td>\n",
       "      <td>SNG</td>\n",
       "    </tr>\n",
       "  </tbody>\n",
       "</table>\n",
       "</div>"
      ],
      "text/plain": [
       "     cell_name           barcode     ref cell_line_demuxlet demuxlet_cls\n",
       "0  CELL_000001  CCGTTCAGTACGACCC  755167             HCC827          SNG\n",
       "1  CELL_000002  TGAAAGACACTGTTAG  753727             HCC827          DBL\n",
       "2  CELL_000003  CTGAAACAGAGACTAT  750591             HCC827          SNG\n",
       "3  CELL_000004  GACTGCGCACGAAACG  718276             HCC827          SNG\n",
       "4  CELL_000005  AGCAGCCTCCTCGCAT  701393             HCC827          SNG\n",
       "5  CELL_000006  TTCTCAAGTTACGACT  665628              H1975          SNG\n",
       "6  CELL_000007  AGTGTCAGTATCTGCA  663212             HCC827          SNG\n",
       "7  CELL_000008  TGAGAGGAGATCGATA  656593             HCC827          SNG\n",
       "8  CELL_000009  TTCGAAGGTTCCGTCT  652084             HCC827          SNG\n",
       "9  CELL_000010  CTCATTACATTCCTCG  651956             HCC827          SNG"
      ]
     },
     "execution_count": 11,
     "metadata": {},
     "output_type": "execute_result"
    }
   ],
   "source": [
    "table = ground_truth2.merge(ground_truth1, on='cell_name')\n",
    "table.head(10)"
   ]
  },
  {
   "cell_type": "markdown",
   "metadata": {},
   "source": [
    "# Compare results"
   ]
  },
  {
   "cell_type": "code",
   "execution_count": 14,
   "metadata": {},
   "outputs": [
    {
     "name": "stderr",
     "output_type": "stream",
     "text": [
      "/Users/waynewu/anaconda3/lib/python3.7/site-packages/ipykernel_launcher.py:28: SettingWithCopyWarning: \n",
      "A value is trying to be set on a copy of a slice from a DataFrame.\n",
      "Try using .loc[row_indexer,col_indexer] = value instead\n",
      "\n",
      "See the caveats in the documentation: http://pandas.pydata.org/pandas-docs/stable/indexing.html#indexing-view-versus-copy\n"
     ]
    }
   ],
   "source": [
    "import matplotlib.pyplot as plt\n",
    "%matplotlib inline\n",
    "\n",
    "path = '/Users/waynewu/4.Github/Clustering-for-scRNAseq/cluster_results/sc-10x/'\n",
    "barcode = 'barcode'\n",
    "\n",
    "# 1. seurat python 10x\n",
    "py_10x = pd.read_csv(path+'seurat-python.csv')\n",
    "py_10x.pop('Unnamed: 0')\n",
    "\n",
    "# 2. seurat r 10x - resolution = 1\n",
    "R_10x = pd.read_csv(path+'seurat-R-1.csv')\n",
    "R_10x[barcode] = R_10x['Unnamed: 0']\n",
    "R_10x.pop('Unnamed: 0')\n",
    "newdata = table.merge(R_10x, on=barcode)\n",
    "newdata['target'] = newdata['cell_line_demuxlet'].factorize()[0]\n",
    "\n",
    "# 3. seurat r 10x - resolution = 0.5\n",
    "R_10x_half = pd.read_csv(path+'seurat-R.csv')\n",
    "R_10x_half[barcode] = R_10x_half['Unnamed: 0']\n",
    "R_10x_half.pop('Unnamed: 0')\n",
    "newdata_half = table.merge(R_10x_half, on=barcode)\n",
    "newdata_half['target'] = newdata_half['cell_line_demuxlet'].factorize()[0]\n",
    "\n",
    "# 4. sc3 results\n",
    "sc3 = pd.read_excel(path+'sc3_results.xls')\n",
    "sc3_results = sc3[[\"Unnamed: 0\", \"sc3_4_clusters\"]]\n",
    "sc3_results[\"cell_name\"] = sc3_results[\"Unnamed: 0\"]\n",
    "sc3_r = table.merge(sc3_results, on=\"cell_name\")\n",
    "sc3_r['target'] = sc3_r['cell_line_demuxlet'].factorize()[0]"
   ]
  },
  {
   "cell_type": "markdown",
   "metadata": {},
   "source": [
    "## 1. Cluster counts"
   ]
  },
  {
   "cell_type": "code",
   "execution_count": 15,
   "metadata": {},
   "outputs": [],
   "source": [
    "def cluster_counts(df, cluster_name, name):\n",
    "    print(\"Cluster counts for {}\".format(name))\n",
    "    groups = df.groupby(by = cluster_name)\n",
    "    return groups[\"target\"].describe()[['count']]"
   ]
  },
  {
   "cell_type": "code",
   "execution_count": 16,
   "metadata": {},
   "outputs": [
    {
     "name": "stdout",
     "output_type": "stream",
     "text": [
      "Cluster counts for 1. seurat python 10x - 3 cells\n"
     ]
    },
    {
     "data": {
      "text/html": [
       "<div>\n",
       "<style scoped>\n",
       "    .dataframe tbody tr th:only-of-type {\n",
       "        vertical-align: middle;\n",
       "    }\n",
       "\n",
       "    .dataframe tbody tr th {\n",
       "        vertical-align: top;\n",
       "    }\n",
       "\n",
       "    .dataframe thead th {\n",
       "        text-align: right;\n",
       "    }\n",
       "</style>\n",
       "<table border=\"1\" class=\"dataframe\">\n",
       "  <thead>\n",
       "    <tr style=\"text-align: right;\">\n",
       "      <th></th>\n",
       "      <th>count</th>\n",
       "    </tr>\n",
       "    <tr>\n",
       "      <th>louvain</th>\n",
       "      <th></th>\n",
       "    </tr>\n",
       "  </thead>\n",
       "  <tbody>\n",
       "    <tr>\n",
       "      <th>0</th>\n",
       "      <td>144.0</td>\n",
       "    </tr>\n",
       "    <tr>\n",
       "      <th>1</th>\n",
       "      <td>137.0</td>\n",
       "    </tr>\n",
       "    <tr>\n",
       "      <th>2</th>\n",
       "      <td>134.0</td>\n",
       "    </tr>\n",
       "    <tr>\n",
       "      <th>3</th>\n",
       "      <td>111.0</td>\n",
       "    </tr>\n",
       "    <tr>\n",
       "      <th>4</th>\n",
       "      <td>104.0</td>\n",
       "    </tr>\n",
       "    <tr>\n",
       "      <th>5</th>\n",
       "      <td>95.0</td>\n",
       "    </tr>\n",
       "    <tr>\n",
       "      <th>6</th>\n",
       "      <td>80.0</td>\n",
       "    </tr>\n",
       "    <tr>\n",
       "      <th>7</th>\n",
       "      <td>38.0</td>\n",
       "    </tr>\n",
       "    <tr>\n",
       "      <th>8</th>\n",
       "      <td>38.0</td>\n",
       "    </tr>\n",
       "    <tr>\n",
       "      <th>9</th>\n",
       "      <td>34.0</td>\n",
       "    </tr>\n",
       "  </tbody>\n",
       "</table>\n",
       "</div>"
      ],
      "text/plain": [
       "         count\n",
       "louvain       \n",
       "0        144.0\n",
       "1        137.0\n",
       "2        134.0\n",
       "3        111.0\n",
       "4        104.0\n",
       "5         95.0\n",
       "6         80.0\n",
       "7         38.0\n",
       "8         38.0\n",
       "9         34.0"
      ]
     },
     "execution_count": 16,
     "metadata": {},
     "output_type": "execute_result"
    }
   ],
   "source": [
    "cluster_counts(py_10x, 'louvain', '1. seurat python 10x - 3 cells')"
   ]
  },
  {
   "cell_type": "code",
   "execution_count": 17,
   "metadata": {},
   "outputs": [
    {
     "name": "stdout",
     "output_type": "stream",
     "text": [
      "Cluster counts for 2. seurat r 10x - 3 cells - resolution = 1\n"
     ]
    },
    {
     "data": {
      "text/html": [
       "<div>\n",
       "<style scoped>\n",
       "    .dataframe tbody tr th:only-of-type {\n",
       "        vertical-align: middle;\n",
       "    }\n",
       "\n",
       "    .dataframe tbody tr th {\n",
       "        vertical-align: top;\n",
       "    }\n",
       "\n",
       "    .dataframe thead th {\n",
       "        text-align: right;\n",
       "    }\n",
       "</style>\n",
       "<table border=\"1\" class=\"dataframe\">\n",
       "  <thead>\n",
       "    <tr style=\"text-align: right;\">\n",
       "      <th></th>\n",
       "      <th>count</th>\n",
       "    </tr>\n",
       "    <tr>\n",
       "      <th>seurat_clusters</th>\n",
       "      <th></th>\n",
       "    </tr>\n",
       "  </thead>\n",
       "  <tbody>\n",
       "    <tr>\n",
       "      <th>0</th>\n",
       "      <td>151.0</td>\n",
       "    </tr>\n",
       "    <tr>\n",
       "      <th>1</th>\n",
       "      <td>128.0</td>\n",
       "    </tr>\n",
       "    <tr>\n",
       "      <th>2</th>\n",
       "      <td>117.0</td>\n",
       "    </tr>\n",
       "    <tr>\n",
       "      <th>3</th>\n",
       "      <td>113.0</td>\n",
       "    </tr>\n",
       "    <tr>\n",
       "      <th>4</th>\n",
       "      <td>91.0</td>\n",
       "    </tr>\n",
       "    <tr>\n",
       "      <th>5</th>\n",
       "      <td>86.0</td>\n",
       "    </tr>\n",
       "    <tr>\n",
       "      <th>6</th>\n",
       "      <td>66.0</td>\n",
       "    </tr>\n",
       "    <tr>\n",
       "      <th>7</th>\n",
       "      <td>61.0</td>\n",
       "    </tr>\n",
       "    <tr>\n",
       "      <th>8</th>\n",
       "      <td>58.0</td>\n",
       "    </tr>\n",
       "    <tr>\n",
       "      <th>9</th>\n",
       "      <td>44.0</td>\n",
       "    </tr>\n",
       "  </tbody>\n",
       "</table>\n",
       "</div>"
      ],
      "text/plain": [
       "                 count\n",
       "seurat_clusters       \n",
       "0                151.0\n",
       "1                128.0\n",
       "2                117.0\n",
       "3                113.0\n",
       "4                 91.0\n",
       "5                 86.0\n",
       "6                 66.0\n",
       "7                 61.0\n",
       "8                 58.0\n",
       "9                 44.0"
      ]
     },
     "execution_count": 17,
     "metadata": {},
     "output_type": "execute_result"
    }
   ],
   "source": [
    "cluster_counts(newdata, 'seurat_clusters', '2. seurat r 10x - 3 cells - resolution = 1')"
   ]
  },
  {
   "cell_type": "code",
   "execution_count": 18,
   "metadata": {},
   "outputs": [
    {
     "name": "stdout",
     "output_type": "stream",
     "text": [
      "Cluster counts for 3. seurat r 10x - 3 cells - resolution = 0.5\n"
     ]
    },
    {
     "data": {
      "text/html": [
       "<div>\n",
       "<style scoped>\n",
       "    .dataframe tbody tr th:only-of-type {\n",
       "        vertical-align: middle;\n",
       "    }\n",
       "\n",
       "    .dataframe tbody tr th {\n",
       "        vertical-align: top;\n",
       "    }\n",
       "\n",
       "    .dataframe thead th {\n",
       "        text-align: right;\n",
       "    }\n",
       "</style>\n",
       "<table border=\"1\" class=\"dataframe\">\n",
       "  <thead>\n",
       "    <tr style=\"text-align: right;\">\n",
       "      <th></th>\n",
       "      <th>count</th>\n",
       "    </tr>\n",
       "    <tr>\n",
       "      <th>seurat_clusters</th>\n",
       "      <th></th>\n",
       "    </tr>\n",
       "  </thead>\n",
       "  <tbody>\n",
       "    <tr>\n",
       "      <th>0</th>\n",
       "      <td>279.0</td>\n",
       "    </tr>\n",
       "    <tr>\n",
       "      <th>1</th>\n",
       "      <td>176.0</td>\n",
       "    </tr>\n",
       "    <tr>\n",
       "      <th>2</th>\n",
       "      <td>142.0</td>\n",
       "    </tr>\n",
       "    <tr>\n",
       "      <th>3</th>\n",
       "      <td>135.0</td>\n",
       "    </tr>\n",
       "    <tr>\n",
       "      <th>4</th>\n",
       "      <td>117.0</td>\n",
       "    </tr>\n",
       "    <tr>\n",
       "      <th>5</th>\n",
       "      <td>66.0</td>\n",
       "    </tr>\n",
       "  </tbody>\n",
       "</table>\n",
       "</div>"
      ],
      "text/plain": [
       "                 count\n",
       "seurat_clusters       \n",
       "0                279.0\n",
       "1                176.0\n",
       "2                142.0\n",
       "3                135.0\n",
       "4                117.0\n",
       "5                 66.0"
      ]
     },
     "execution_count": 18,
     "metadata": {},
     "output_type": "execute_result"
    }
   ],
   "source": [
    "# 3. seurat r 10x - 3 cells - resolution = 0.5\n",
    "cluster_counts(newdata_half, 'seurat_clusters', '3. seurat r 10x - 3 cells - resolution = 0.5')"
   ]
  },
  {
   "cell_type": "code",
   "execution_count": 19,
   "metadata": {},
   "outputs": [
    {
     "name": "stdout",
     "output_type": "stream",
     "text": [
      "Cluster counts for 4. sc3 10x\n"
     ]
    },
    {
     "data": {
      "text/html": [
       "<div>\n",
       "<style scoped>\n",
       "    .dataframe tbody tr th:only-of-type {\n",
       "        vertical-align: middle;\n",
       "    }\n",
       "\n",
       "    .dataframe tbody tr th {\n",
       "        vertical-align: top;\n",
       "    }\n",
       "\n",
       "    .dataframe thead th {\n",
       "        text-align: right;\n",
       "    }\n",
       "</style>\n",
       "<table border=\"1\" class=\"dataframe\">\n",
       "  <thead>\n",
       "    <tr style=\"text-align: right;\">\n",
       "      <th></th>\n",
       "      <th>count</th>\n",
       "    </tr>\n",
       "    <tr>\n",
       "      <th>sc3_4_clusters</th>\n",
       "      <th></th>\n",
       "    </tr>\n",
       "  </thead>\n",
       "  <tbody>\n",
       "    <tr>\n",
       "      <th>1</th>\n",
       "      <td>314.0</td>\n",
       "    </tr>\n",
       "    <tr>\n",
       "      <th>2</th>\n",
       "      <td>276.0</td>\n",
       "    </tr>\n",
       "    <tr>\n",
       "      <th>3</th>\n",
       "      <td>134.0</td>\n",
       "    </tr>\n",
       "    <tr>\n",
       "      <th>4</th>\n",
       "      <td>178.0</td>\n",
       "    </tr>\n",
       "  </tbody>\n",
       "</table>\n",
       "</div>"
      ],
      "text/plain": [
       "                count\n",
       "sc3_4_clusters       \n",
       "1               314.0\n",
       "2               276.0\n",
       "3               134.0\n",
       "4               178.0"
      ]
     },
     "execution_count": 19,
     "metadata": {},
     "output_type": "execute_result"
    }
   ],
   "source": [
    "# 4. sc3 10x\n",
    "cluster_counts(sc3_r, 'sc3_4_clusters', '4. sc3 10x')"
   ]
  },
  {
   "cell_type": "markdown",
   "metadata": {},
   "source": [
    "## 2. Compare with ground truths"
   ]
  },
  {
   "cell_type": "code",
   "execution_count": 86,
   "metadata": {},
   "outputs": [],
   "source": [
    "def reorder(df):\n",
    "    \n",
    "    dic = {i: np.argmax(df.loc[:,i].values) for i in range(len(df.columns))}\n",
    "    dic = sorted(dic.items(), key = lambda x: x[1])\n",
    "    df_new = pd.concat([df.loc[:,col] for col, target in dic],axis=1)\n",
    "    \n",
    "    # Normalize\n",
    "    #df_new = df_new.apply(lambda x: x/x.sum(), axis=0)\n",
    "    \n",
    "    return df_new"
   ]
  },
  {
   "cell_type": "code",
   "execution_count": 66,
   "metadata": {},
   "outputs": [
    {
     "data": {
      "text/html": [
       "<div>\n",
       "<style scoped>\n",
       "    .dataframe tbody tr th:only-of-type {\n",
       "        vertical-align: middle;\n",
       "    }\n",
       "\n",
       "    .dataframe tbody tr th {\n",
       "        vertical-align: top;\n",
       "    }\n",
       "\n",
       "    .dataframe thead th {\n",
       "        text-align: right;\n",
       "    }\n",
       "</style>\n",
       "<table border=\"1\" class=\"dataframe\">\n",
       "  <thead>\n",
       "    <tr style=\"text-align: right;\">\n",
       "      <th>louvain</th>\n",
       "      <th>0</th>\n",
       "      <th>1</th>\n",
       "      <th>2</th>\n",
       "      <th>3</th>\n",
       "      <th>4</th>\n",
       "      <th>5</th>\n",
       "      <th>6</th>\n",
       "      <th>7</th>\n",
       "      <th>8</th>\n",
       "      <th>9</th>\n",
       "      <th>sum</th>\n",
       "    </tr>\n",
       "    <tr>\n",
       "      <th>target</th>\n",
       "      <th></th>\n",
       "      <th></th>\n",
       "      <th></th>\n",
       "      <th></th>\n",
       "      <th></th>\n",
       "      <th></th>\n",
       "      <th></th>\n",
       "      <th></th>\n",
       "      <th></th>\n",
       "      <th></th>\n",
       "      <th></th>\n",
       "    </tr>\n",
       "  </thead>\n",
       "  <tbody>\n",
       "    <tr>\n",
       "      <th>0</th>\n",
       "      <td>0</td>\n",
       "      <td>0</td>\n",
       "      <td>134</td>\n",
       "      <td>111</td>\n",
       "      <td>0</td>\n",
       "      <td>0</td>\n",
       "      <td>0</td>\n",
       "      <td>0</td>\n",
       "      <td>0</td>\n",
       "      <td>33</td>\n",
       "      <td>278</td>\n",
       "    </tr>\n",
       "    <tr>\n",
       "      <th>1</th>\n",
       "      <td>144</td>\n",
       "      <td>137</td>\n",
       "      <td>0</td>\n",
       "      <td>0</td>\n",
       "      <td>0</td>\n",
       "      <td>0</td>\n",
       "      <td>0</td>\n",
       "      <td>38</td>\n",
       "      <td>0</td>\n",
       "      <td>0</td>\n",
       "      <td>319</td>\n",
       "    </tr>\n",
       "    <tr>\n",
       "      <th>2</th>\n",
       "      <td>0</td>\n",
       "      <td>0</td>\n",
       "      <td>0</td>\n",
       "      <td>0</td>\n",
       "      <td>104</td>\n",
       "      <td>95</td>\n",
       "      <td>80</td>\n",
       "      <td>0</td>\n",
       "      <td>38</td>\n",
       "      <td>1</td>\n",
       "      <td>318</td>\n",
       "    </tr>\n",
       "  </tbody>\n",
       "</table>\n",
       "</div>"
      ],
      "text/plain": [
       "louvain    0    1    2    3    4   5   6   7   8   9  sum\n",
       "target                                                   \n",
       "0          0    0  134  111    0   0   0   0   0  33  278\n",
       "1        144  137    0    0    0   0   0  38   0   0  319\n",
       "2          0    0    0    0  104  95  80   0  38   1  318"
      ]
     },
     "execution_count": 66,
     "metadata": {},
     "output_type": "execute_result"
    }
   ],
   "source": [
    "# 1. seurat python 10x - 3 cells \n",
    "df = pd.crosstab(py_10x['target'], py_10x['louvain'])\n",
    "df_s = df.copy()\n",
    "df_s[\"sum\"] = df.sum(axis=1)\n",
    "df_s"
   ]
  },
  {
   "cell_type": "code",
   "execution_count": 68,
   "metadata": {},
   "outputs": [
    {
     "data": {
      "text/plain": [
       "<matplotlib.axes._subplots.AxesSubplot at 0x1a3cf20c50>"
      ]
     },
     "execution_count": 68,
     "metadata": {},
     "output_type": "execute_result"
    },
    {
     "data": {
      "image/png": "[encoded data removed]",
      "text/plain": [
       "<Figure size 432x288 with 2 Axes>"
      ]
     },
     "metadata": {
      "needs_background": "light"
     },
     "output_type": "display_data"
    }
   ],
   "source": [
    "df = reorder(df)\n",
    "sns.heatmap(df, cmap=\"YlGnBu\", annot=True, fmt=\"d\")"
   ]
  },
  {
   "cell_type": "code",
   "execution_count": 69,
   "metadata": {},
   "outputs": [
    {
     "data": {
      "text/html": [
       "<div>\n",
       "<style scoped>\n",
       "    .dataframe tbody tr th:only-of-type {\n",
       "        vertical-align: middle;\n",
       "    }\n",
       "\n",
       "    .dataframe tbody tr th {\n",
       "        vertical-align: top;\n",
       "    }\n",
       "\n",
       "    .dataframe thead th {\n",
       "        text-align: right;\n",
       "    }\n",
       "</style>\n",
       "<table border=\"1\" class=\"dataframe\">\n",
       "  <thead>\n",
       "    <tr style=\"text-align: right;\">\n",
       "      <th>seurat_clusters</th>\n",
       "      <th>0</th>\n",
       "      <th>1</th>\n",
       "      <th>2</th>\n",
       "      <th>3</th>\n",
       "      <th>4</th>\n",
       "      <th>5</th>\n",
       "      <th>6</th>\n",
       "      <th>7</th>\n",
       "      <th>8</th>\n",
       "      <th>9</th>\n",
       "      <th>sum</th>\n",
       "    </tr>\n",
       "    <tr>\n",
       "      <th>target</th>\n",
       "      <th></th>\n",
       "      <th></th>\n",
       "      <th></th>\n",
       "      <th></th>\n",
       "      <th></th>\n",
       "      <th></th>\n",
       "      <th></th>\n",
       "      <th></th>\n",
       "      <th></th>\n",
       "      <th></th>\n",
       "      <th></th>\n",
       "    </tr>\n",
       "  </thead>\n",
       "  <tbody>\n",
       "    <tr>\n",
       "      <th>0</th>\n",
       "      <td>150</td>\n",
       "      <td>128</td>\n",
       "      <td>0</td>\n",
       "      <td>0</td>\n",
       "      <td>0</td>\n",
       "      <td>0</td>\n",
       "      <td>0</td>\n",
       "      <td>0</td>\n",
       "      <td>0</td>\n",
       "      <td>0</td>\n",
       "      <td>278</td>\n",
       "    </tr>\n",
       "    <tr>\n",
       "      <th>1</th>\n",
       "      <td>1</td>\n",
       "      <td>0</td>\n",
       "      <td>117</td>\n",
       "      <td>0</td>\n",
       "      <td>91</td>\n",
       "      <td>0</td>\n",
       "      <td>66</td>\n",
       "      <td>0</td>\n",
       "      <td>0</td>\n",
       "      <td>44</td>\n",
       "      <td>319</td>\n",
       "    </tr>\n",
       "    <tr>\n",
       "      <th>2</th>\n",
       "      <td>0</td>\n",
       "      <td>0</td>\n",
       "      <td>0</td>\n",
       "      <td>113</td>\n",
       "      <td>0</td>\n",
       "      <td>86</td>\n",
       "      <td>0</td>\n",
       "      <td>61</td>\n",
       "      <td>58</td>\n",
       "      <td>0</td>\n",
       "      <td>318</td>\n",
       "    </tr>\n",
       "  </tbody>\n",
       "</table>\n",
       "</div>"
      ],
      "text/plain": [
       "seurat_clusters    0    1    2    3   4   5   6   7   8   9  sum\n",
       "target                                                          \n",
       "0                150  128    0    0   0   0   0   0   0   0  278\n",
       "1                  1    0  117    0  91   0  66   0   0  44  319\n",
       "2                  0    0    0  113   0  86   0  61  58   0  318"
      ]
     },
     "execution_count": 69,
     "metadata": {},
     "output_type": "execute_result"
    }
   ],
   "source": [
    "# 2. seurat r 10x - 3 cells - resolution = 1\n",
    "df_r = pd.crosstab(newdata['target'], newdata['seurat_clusters'])\n",
    "df_r_s = df_r.copy()\n",
    "df_r_s[\"sum\"] = df_r.sum(axis=1)\n",
    "df_r_s"
   ]
  },
  {
   "cell_type": "code",
   "execution_count": 70,
   "metadata": {},
   "outputs": [
    {
     "data": {
      "text/plain": [
       "<matplotlib.axes._subplots.AxesSubplot at 0x1a3d115780>"
      ]
     },
     "execution_count": 70,
     "metadata": {},
     "output_type": "execute_result"
    },
    {
     "data": {
      "image/png": "[encoded data removed]",
      "text/plain": [
       "<Figure size 432x288 with 2 Axes>"
      ]
     },
     "metadata": {
      "needs_background": "light"
     },
     "output_type": "display_data"
    }
   ],
   "source": [
    "df_r = reorder(df_r)\n",
    "sns.heatmap(df_r, cmap=\"YlGnBu\", annot=True, fmt=\"d\")"
   ]
  },
  {
   "cell_type": "code",
   "execution_count": 71,
   "metadata": {},
   "outputs": [
    {
     "data": {
      "text/html": [
       "<div>\n",
       "<style scoped>\n",
       "    .dataframe tbody tr th:only-of-type {\n",
       "        vertical-align: middle;\n",
       "    }\n",
       "\n",
       "    .dataframe tbody tr th {\n",
       "        vertical-align: top;\n",
       "    }\n",
       "\n",
       "    .dataframe thead th {\n",
       "        text-align: right;\n",
       "    }\n",
       "</style>\n",
       "<table border=\"1\" class=\"dataframe\">\n",
       "  <thead>\n",
       "    <tr style=\"text-align: right;\">\n",
       "      <th>seurat_clusters</th>\n",
       "      <th>0</th>\n",
       "      <th>1</th>\n",
       "      <th>2</th>\n",
       "      <th>3</th>\n",
       "      <th>4</th>\n",
       "      <th>5</th>\n",
       "      <th>sum</th>\n",
       "    </tr>\n",
       "    <tr>\n",
       "      <th>target</th>\n",
       "      <th></th>\n",
       "      <th></th>\n",
       "      <th></th>\n",
       "      <th></th>\n",
       "      <th></th>\n",
       "      <th></th>\n",
       "      <th></th>\n",
       "    </tr>\n",
       "  </thead>\n",
       "  <tbody>\n",
       "    <tr>\n",
       "      <th>0</th>\n",
       "      <td>278</td>\n",
       "      <td>0</td>\n",
       "      <td>0</td>\n",
       "      <td>0</td>\n",
       "      <td>0</td>\n",
       "      <td>0</td>\n",
       "      <td>278</td>\n",
       "    </tr>\n",
       "    <tr>\n",
       "      <th>1</th>\n",
       "      <td>1</td>\n",
       "      <td>0</td>\n",
       "      <td>0</td>\n",
       "      <td>135</td>\n",
       "      <td>117</td>\n",
       "      <td>66</td>\n",
       "      <td>319</td>\n",
       "    </tr>\n",
       "    <tr>\n",
       "      <th>2</th>\n",
       "      <td>0</td>\n",
       "      <td>176</td>\n",
       "      <td>142</td>\n",
       "      <td>0</td>\n",
       "      <td>0</td>\n",
       "      <td>0</td>\n",
       "      <td>318</td>\n",
       "    </tr>\n",
       "  </tbody>\n",
       "</table>\n",
       "</div>"
      ],
      "text/plain": [
       "seurat_clusters    0    1    2    3    4   5  sum\n",
       "target                                           \n",
       "0                278    0    0    0    0   0  278\n",
       "1                  1    0    0  135  117  66  319\n",
       "2                  0  176  142    0    0   0  318"
      ]
     },
     "execution_count": 71,
     "metadata": {},
     "output_type": "execute_result"
    }
   ],
   "source": [
    "# 3. seurat r 10x - 3 cells - resolution = 0.5\n",
    "df_r_half = pd.crosstab(newdata_half['target'], newdata_half['seurat_clusters'])\n",
    "df_r_half_s = df_r_half.copy()\n",
    "df_r_half_s[\"sum\"] = df_r_half.sum(axis=1)\n",
    "df_r_half_s"
   ]
  },
  {
   "cell_type": "code",
   "execution_count": 72,
   "metadata": {},
   "outputs": [
    {
     "data": {
      "text/plain": [
       "<matplotlib.axes._subplots.AxesSubplot at 0x1a3d27c358>"
      ]
     },
     "execution_count": 72,
     "metadata": {},
     "output_type": "execute_result"
    },
    {
     "data": {
      "image/png": "[encoded data removed]",
      "text/plain": [
       "<Figure size 432x288 with 2 Axes>"
      ]
     },
     "metadata": {
      "needs_background": "light"
     },
     "output_type": "display_data"
    }
   ],
   "source": [
    "df_r_half = reorder(df_r_half)\n",
    "sns.heatmap(df_r_half, cmap=\"YlGnBu\", annot=True, fmt=\"d\")"
   ]
  },
  {
   "cell_type": "code",
   "execution_count": 84,
   "metadata": {},
   "outputs": [
    {
     "data": {
      "text/html": [
       "<div>\n",
       "<style scoped>\n",
       "    .dataframe tbody tr th:only-of-type {\n",
       "        vertical-align: middle;\n",
       "    }\n",
       "\n",
       "    .dataframe tbody tr th {\n",
       "        vertical-align: top;\n",
       "    }\n",
       "\n",
       "    .dataframe thead th {\n",
       "        text-align: right;\n",
       "    }\n",
       "</style>\n",
       "<table border=\"1\" class=\"dataframe\">\n",
       "  <thead>\n",
       "    <tr style=\"text-align: right;\">\n",
       "      <th>sc3_4_clusters</th>\n",
       "      <th>1</th>\n",
       "      <th>2</th>\n",
       "      <th>3</th>\n",
       "      <th>4</th>\n",
       "      <th>sum</th>\n",
       "    </tr>\n",
       "    <tr>\n",
       "      <th>target</th>\n",
       "      <th></th>\n",
       "      <th></th>\n",
       "      <th></th>\n",
       "      <th></th>\n",
       "      <th></th>\n",
       "    </tr>\n",
       "  </thead>\n",
       "  <tbody>\n",
       "    <tr>\n",
       "      <th>0</th>\n",
       "      <td>0</td>\n",
       "      <td>275</td>\n",
       "      <td>0</td>\n",
       "      <td>0</td>\n",
       "      <td>275</td>\n",
       "    </tr>\n",
       "    <tr>\n",
       "      <th>1</th>\n",
       "      <td>0</td>\n",
       "      <td>1</td>\n",
       "      <td>134</td>\n",
       "      <td>178</td>\n",
       "      <td>313</td>\n",
       "    </tr>\n",
       "    <tr>\n",
       "      <th>2</th>\n",
       "      <td>314</td>\n",
       "      <td>0</td>\n",
       "      <td>0</td>\n",
       "      <td>0</td>\n",
       "      <td>314</td>\n",
       "    </tr>\n",
       "  </tbody>\n",
       "</table>\n",
       "</div>"
      ],
      "text/plain": [
       "sc3_4_clusters    1    2    3    4  sum\n",
       "target                                 \n",
       "0                 0  275    0    0  275\n",
       "1                 0    1  134  178  313\n",
       "2               314    0    0    0  314"
      ]
     },
     "execution_count": 84,
     "metadata": {},
     "output_type": "execute_result"
    }
   ],
   "source": [
    "# 4. sc3 10x\n",
    "df_sc3 = pd.crosstab(sc3_r['target'], sc3_r['sc3_4_clusters'])\n",
    "df_sc3_s = df_sc3.copy()\n",
    "df_sc3_s[\"sum\"] = df_sc3_s.sum(axis=1)\n",
    "df_sc3_s"
   ]
  },
  {
   "cell_type": "code",
   "execution_count": 85,
   "metadata": {},
   "outputs": [
    {
     "data": {
      "text/plain": [
       "<matplotlib.axes._subplots.AxesSubplot at 0x1a3dad9240>"
      ]
     },
     "execution_count": 85,
     "metadata": {},
     "output_type": "execute_result"
    },
    {
     "data": {
      "image/png": "[encoded data removed]",
      "text/plain": [
       "<Figure size 432x288 with 2 Axes>"
      ]
     },
     "metadata": {
      "needs_background": "light"
     },
     "output_type": "display_data"
    }
   ],
   "source": [
    "def reorder(df):\n",
    "    \n",
    "    dic = {i: np.argmax(df.loc[:,i].values) for i in range(1, len(df.columns)+1)}\n",
    "    dic = sorted(dic.items(), key = lambda x: x[1])\n",
    "    df_new = pd.concat([df.loc[:,col] for col, target in dic],axis=1)\n",
    "    \n",
    "    # Normalize\n",
    "    #df_new = df_new.apply(lambda x: x/x.sum(), axis=0)\n",
    "    \n",
    "    return df_new\n",
    "\n",
    "df_sc3 = reorder(df_sc3)\n",
    "sns.heatmap(df_sc3, cmap=\"YlGnBu\", annot=True, fmt=\"d\")"
   ]
  },
  {
   "cell_type": "markdown",
   "metadata": {},
   "source": [
    "## 3. mutual comparison"
   ]
  },
  {
   "cell_type": "code",
   "execution_count": 87,
   "metadata": {},
   "outputs": [
    {
     "data": {
      "text/plain": [
       "<matplotlib.axes._subplots.AxesSubplot at 0x1a3dbfad68>"
      ]
     },
     "execution_count": 87,
     "metadata": {},
     "output_type": "execute_result"
    },
    {
     "data": {
      "image/png": "[encoded data removed]",
      "text/plain": [
       "<Figure size 432x288 with 2 Axes>"
      ]
     },
     "metadata": {
      "needs_background": "light"
     },
     "output_type": "display_data"
    }
   ],
   "source": [
    "# python vs. r (resolution: 1)\n",
    "dfsss = pd.crosstab(newdata['seurat_clusters'], py_10x['louvain'])\n",
    "dfsss = reorder(dfsss)\n",
    "sns.heatmap(dfsss, cmap=\"YlGnBu\", annot=True, fmt=\"d\")"
   ]
  },
  {
   "cell_type": "code",
   "execution_count": 88,
   "metadata": {},
   "outputs": [
    {
     "data": {
      "text/plain": [
       "<matplotlib.axes._subplots.AxesSubplot at 0x1a3dde78d0>"
      ]
     },
     "execution_count": 88,
     "metadata": {},
     "output_type": "execute_result"
    },
    {
     "data": {
      "image/png": "[encoded data removed]",
      "text/plain": [
       "<Figure size 432x288 with 2 Axes>"
      ]
     },
     "metadata": {
      "needs_background": "light"
     },
     "output_type": "display_data"
    }
   ],
   "source": [
    "# mutual comparison\n",
    "# python vs. r (resolution: 0.5)\n",
    "dfsss = pd.crosstab(newdata_half['seurat_clusters'], py_10x['louvain'])\n",
    "dfsss = reorder(dfsss)\n",
    "sns.heatmap(dfsss, cmap=\"YlGnBu\", annot=True, fmt=\"d\")"
   ]
  },
  {
   "cell_type": "markdown",
   "metadata": {},
   "source": [
    "## 4. Calculating the metrics\n",
    "With M and N representing the cluster\n",
    "assignment generated from clustering methods and annotations (ground truth), we\n",
    "define these measures as follows:\n",
    "\n",
    "<img src=\"clustering.png\"/>\n",
    "\n",
    "where $x_j$ are cells in the jth true cluster and $p(x_j)$ are the proportions of these\n",
    "cells relative to the total number of cells in the ith generated cluster. For $H_{accuracy}$,\n",
    "M denotes the clustering generated by a given method, and $Ni$ are the true clusters\n",
    "in the ith generated cluster. Similarly, in $H_{purity}$, N denotes the true clusters while\n",
    "$M_i$ is the method assigned cluster for the ith true cluster. The ECA measures the\n",
    "diversity of the true group labels within each cluster assigned by the clustering\n",
    "algorithm. A low value indicates that the cells in a cluster identified by a given\n",
    "method are homogeneous and from the same group."
   ]
  },
  {
   "cell_type": "code",
   "execution_count": 30,
   "metadata": {},
   "outputs": [],
   "source": [
    "def calc_h_accuracy(df):\n",
    "    df_norm = df.apply(lambda x: x/x.sum(), axis=0)\n",
    "    df_entropy = df_norm.apply(lambda x: x*np.log2(x+0.0001))\n",
    "    return -np.sum(df_entropy.sum(axis=0)) / len(df.columns)\n",
    "\n",
    "def calc_h_purity(df):\n",
    "    df_norm = df.apply(lambda x: x/x.sum(), axis=1)\n",
    "    df_entropy = df_norm.apply(lambda x: x*np.log2(x+0.0001))\n",
    "    return -np.sum(df_entropy.sum(axis=0)) / len(df)"
   ]
  },
  {
   "cell_type": "code",
   "execution_count": 31,
   "metadata": {},
   "outputs": [
    {
     "name": "stdout",
     "output_type": "stream",
     "text": [
      "======10x single cell results======\n",
      "The entropy of cluster accuracy for seurat python: 0.01898\n",
      "The entropy of cluster accuracy for seurat R (resolution=1): 0.00559\n",
      "The entropy of cluster accuracy for seurat R (resolution=0.5): 0.00555\n",
      "The entropy of cluster accuracy for sc3: 0.00847\n"
     ]
    }
   ],
   "source": [
    "print(\"======10x single cell results======\")\n",
    "print(\"The entropy of cluster accuracy for seurat python: {:.5f}\".format(calc_h_accuracy(df)))\n",
    "print(\"The entropy of cluster accuracy for seurat R (resolution=1): {:.5f}\".format(calc_h_accuracy(df_r)))\n",
    "print(\"The entropy of cluster accuracy for seurat R (resolution=0.5): {:.5f}\".format(calc_h_accuracy(df_r_half)))\n",
    "print(\"The entropy of cluster accuracy for sc3: {:.5f}\".format(calc_h_accuracy(df_sc3)))"
   ]
  },
  {
   "cell_type": "code",
   "execution_count": 32,
   "metadata": {},
   "outputs": [
    {
     "name": "stdout",
     "output_type": "stream",
     "text": [
      "======10x single cell results======\n",
      "The entropy of cluster purity for seurat python: 1.58279\n",
      "The entropy of cluster purity for seurat R (resolution=1): 1.62559\n",
      "The entropy of cluster purity for seurat R (resolution=0.5): 0.84761\n",
      "The entropy of cluster purity for sc3: 0.33761\n"
     ]
    }
   ],
   "source": [
    "print(\"======10x single cell results======\")\n",
    "print(\"The entropy of cluster purity for seurat python: {:.5f}\".format(calc_h_purity(df)))\n",
    "print(\"The entropy of cluster purity for seurat R (resolution=1): {:.5f}\".format(calc_h_purity(df_r)))\n",
    "print(\"The entropy of cluster purity for seurat R (resolution=0.5): {:.5f}\".format(calc_h_purity(df_r_half)))\n",
    "print(\"The entropy of cluster purity for sc3: {:.5f}\".format(calc_h_purity(df_sc3)))"
   ]
  },
  {
   "cell_type": "markdown",
   "metadata": {},
   "source": [
    "#### Rand index adjusted for chance\n",
    "\n",
    "The Rand Index computes a similarity measure between two clusterings by considering all pairs of samples and counting pairs that are assigned in the same or different clusters in the predicted and true clusterings.\n",
    "\n",
    "The raw RI score is then “adjusted for chance” into the ARI score using the following scheme:\n",
    "\n",
    "$ARI = \\frac{RI - Expected\\{RI\\}}{max(RI) - Expected\\{RI\\}}$\n",
    "\n",
    "The adjusted Rand index is thus ensured to have a value close to 0.0 for random labeling independently of the number of clusters and samples and exactly 1.0 when the clusterings are identical (up to a permutation).\n",
    "\n",
    "#### For example:\n",
    "real class set is U, cluster result set is V:\n",
    "\n",
    "Randomly choose two points:\n",
    "\n",
    "1) both belongs to U, V: a $\\sum_{ij}{C^{n_{ij}}_2}$\n",
    "\n",
    "2) both belongs to U, but not V: b $\\sum_{i}{C^{n_{i}}_2} - \\sum_{ij}{C^{n_{ij}}_2}$\n",
    "\n",
    "3) both belongs to V, but not U: c $\\sum_{j}{C^{n_{j}}_2} - \\sum_{ij}{C^{n_{ij}}_2}$\n",
    "\n",
    "4) both don't belong to U,V: d $\\sum{C^{n}_2}$\n",
    "\n",
    "\n",
    "<img src=\"ari.png\" width=\"400\"/>"
   ]
  },
  {
   "cell_type": "code",
   "execution_count": 33,
   "metadata": {},
   "outputs": [
    {
     "name": "stdout",
     "output_type": "stream",
     "text": [
      "======10x single cell 3 cell lines results======\n",
      "The ARI for seurat python: 0.42268\n",
      "The ARI for seurat R (resolution=1): 0.40055\n",
      "The ARI for seurat R (resolution=0.5): 0.65244\n",
      "The ARI for sc3: 0.85856\n"
     ]
    }
   ],
   "source": [
    "from sklearn.metrics.cluster import adjusted_rand_score\n",
    "print(\"======10x single cell 3 cell lines results======\")\n",
    "print(\"The ARI for seurat python: {:.5f}\".format(adjusted_rand_score(py_10x['target'], py_10x['louvain'])))\n",
    "print(\"The ARI for seurat R (resolution=1): {:.5f}\".format(adjusted_rand_score(newdata['target'], newdata['seurat_clusters'])))\n",
    "print(\"The ARI for seurat R (resolution=0.5): {:.5f}\".format(adjusted_rand_score(newdata_half['target'], newdata_half['seurat_clusters'])))\n",
    "print(\"The ARI for sc3: {:.5f}\".format(adjusted_rand_score(sc3_r['target'], sc3_r['sc3_4_clusters'])))"
   ]
  },
  {
   "cell_type": "code",
   "execution_count": null,
   "metadata": {},
   "outputs": [],
   "source": []
  }
 ],
 "metadata": {
  "kernelspec": {
   "display_name": "Python 3",
   "language": "python",
   "name": "python3"
  },
  "language_info": {
   "codemirror_mode": {
    "name": "ipython",
    "version": 3
   },
   "file_extension": ".py",
   "mimetype": "text/x-python",
   "name": "python",
   "nbconvert_exporter": "python",
   "pygments_lexer": "ipython3",
   "version": "3.7.3"
  }
 },
 "nbformat": 4,
 "nbformat_minor": 2
}
